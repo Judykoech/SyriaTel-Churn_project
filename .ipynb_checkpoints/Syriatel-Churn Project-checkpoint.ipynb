{
 "cells": [
  {
   "cell_type": "markdown",
   "metadata": {},
   "source": [
    "# Business Understanding"
   ]
  },
  {
   "cell_type": "markdown",
   "metadata": {},
   "source": [
    "### Overview:\n",
    "> Due to intense competition in the telecommunications sector, predicting customer churn has become a critical concern for SyriaTel. Retaining customers is vital for maintaining competitiveness, as it is more cost-effective than acquiring new ones. Therefore, it is crucial to develop strategies to prevent customer loss. By analyzing various data points and employing predictive analytics, SyriaTel can identify patterns and indicators to anticipate customer behavior and implement proactive measures to reduce churn rates. SyriaTel seeks to use predictive machine learning models, incorporating demographics such as location and usage patterns like calls and charges, to predict the likelihood of customer churn. It is essential for the company to continuously update these models to reflect evolving customer behavior and market dynamics to ensure the effectiveness of its retention strategies.\n",
    "\n",
    "### Problem Statement:\n",
    "> SyriaTel faces heightened competition in the telecommunications industry, making customer retention a critical concern. Predicting customer churn accurately is essential to retain customers and stay competitive. The company needs effective strategies to prevent customer loss and reduce churn rates.\n",
    "\n",
    "### Proposed Solution:\n",
    "> To address the challenge of predicting customer churn, SyriaTel plans to utilize predictive machine learning models. These models will analyze various data points, including demographics (such as location) and usage patterns (such as calls and charges), to identify patterns and indicators of potential churn. By employing predictive analytics, SyriaTel aims to anticipate customer behavior and implement proactive measures to retain customers. It is crucial to continuously update these models to adapt to evolving customer behavior and market dynamics.\n",
    "\n",
    "### Metrics:\n",
    "> The effectiveness of SyriaTel's predictive models will be evaluated based on the accuracy score. This metric measures the proportion of correctly predicted instances among all instances, providing insight into how well the models can predict customer churn. A higher accuracy score indicates that the models are more reliable in identifying customers likely to churn, enabling SyriaTel to take preemptive actions to retain them."
   ]
  },
  {
   "cell_type": "markdown",
   "metadata": {},
   "source": [
    "# Objectives"
   ]
  },
  {
   "cell_type": "markdown",
   "metadata": {},
   "source": [
    "- Develop machine learning models to predict customer churn by analyzing customer feature data. \n",
    "- Compare these models to determine which one offers the highest prediction accuracy. \n",
    "- The goal of the analysis is to pinpoint specific features that significantly influence the customer churn rate at SyriaTel, and provide valuable recommendations based on these insights to help reduce churn rates and enhance customer retention.\n"
   ]
  },
  {
   "cell_type": "markdown",
   "metadata": {},
   "source": [
    "## Summary of Features in the Dataset\n",
    "- state: state residency of the customer \n",
    "- account length: the number of days the customer has owned the  account\n",
    "- area code: area code of the customer\n",
    "- phone number: phone number of the customer\n",
    "- international plan: true if the customer has the international plan, otherwise false\n",
    "- voice mail plan: true if the customer has the voice mail plan, otherwise false\n",
    "- number vmail messages: number of voicemails the customer has sent\n",
    "- total day minutes: total number of minutes the customer has been in calls during the day\n",
    "- total day calls: total number of calls the user has done during the day\n",
    "- total day charge: total amount of money the customer was charged by the Telecom company for calls during the day\n",
    "- total eve minutes: total number of minutes the customer has been in calls during the evening\n",
    "- total eve calls: total number of calls the customer has done during the evening\n",
    "- total eve charge: total amount of money the customer was charged by the Telecom company for calls during the evening\n",
    "- total night minutes: total number of minutes the customer has been in calls during the night\n",
    "- total night calls: total number of calls the customer has done during the night\n",
    "- total night charge: total amount of money the customer was charged by the Telecom company for calls during the night\n",
    "- total intl minutes: total number of minutes the user has been in international calls\n",
    "- total intl calls: total number of international calls the customer has done\n",
    "- total intl charge: total amount of money the customer was charged by the Telecom company for international calls\n",
    "- customer service calls: number of calls the customer made to customer service\n",
    "- churn: true if the customer terminated their contract, otherwise false"
   ]
  },
  {
   "cell_type": "markdown",
   "metadata": {},
   "source": [
    "### Data Understanding"
   ]
  },
  {
   "cell_type": "markdown",
   "metadata": {},
   "source": [
    "> This helps to us to acquire knowledge and comprehension about this dataset before further analysis and modeling."
   ]
  },
  {
   "cell_type": "code",
   "execution_count": 2,
   "metadata": {},
   "outputs": [],
   "source": [
    "#importing relevant libraries \n",
    "import pandas as pd \n",
    "import numpy as np \n",
    "import matplotlib.pyplot as plt \n",
    "%matplotlib inline\n",
    "import seaborn as sns \n",
    "from sklearn.preprocessing import LabelEncoder\n",
    "from sklearn.model_selection import train_test_split, cross_val_score\n",
    "from sklearn.preprocessing import OneHotEncoder\n",
    "from sklearn.metrics import roc_auc_score, ConfusionMatrixDisplay, classification_report, accuracy_score, confusion_matrix, roc_curve\n",
    "from sklearn.preprocessing import StandardScaler\n",
    "import warnings\n",
    "from imblearn.over_sampling import SMOTE\n",
    "from sklearn.linear_model import LogisticRegression\n",
    "from sklearn.tree import DecisionTreeClassifier\n",
    "from sklearn.ensemble import RandomForestClassifier\n",
    "from sklearn.model_selection import GridSearchCV \n",
    "from sklearn.model_selection import cross_val_score\n",
    "import multiprocessing # for reducing the runtime of gridsearch \n",
    "from sklearn.feature_selection import SelectFromModel \n",
    "from sklearn.linear_model import LogisticRegressionCV\n",
    "\n",
    "# Ignore warnings\n",
    "warnings.filterwarnings(\"ignore\")"
   ]
  },
  {
   "cell_type": "code",
   "execution_count": 3,
   "metadata": {},
   "outputs": [
    {
     "data": {
      "text/html": [
       "<div>\n",
       "<style scoped>\n",
       "    .dataframe tbody tr th:only-of-type {\n",
       "        vertical-align: middle;\n",
       "    }\n",
       "\n",
       "    .dataframe tbody tr th {\n",
       "        vertical-align: top;\n",
       "    }\n",
       "\n",
       "    .dataframe thead th {\n",
       "        text-align: right;\n",
       "    }\n",
       "</style>\n",
       "<table border=\"1\" class=\"dataframe\">\n",
       "  <thead>\n",
       "    <tr style=\"text-align: right;\">\n",
       "      <th></th>\n",
       "      <th>state</th>\n",
       "      <th>account length</th>\n",
       "      <th>area code</th>\n",
       "      <th>phone number</th>\n",
       "      <th>international plan</th>\n",
       "      <th>voice mail plan</th>\n",
       "      <th>number vmail messages</th>\n",
       "      <th>total day minutes</th>\n",
       "      <th>total day calls</th>\n",
       "      <th>total day charge</th>\n",
       "      <th>...</th>\n",
       "      <th>total eve calls</th>\n",
       "      <th>total eve charge</th>\n",
       "      <th>total night minutes</th>\n",
       "      <th>total night calls</th>\n",
       "      <th>total night charge</th>\n",
       "      <th>total intl minutes</th>\n",
       "      <th>total intl calls</th>\n",
       "      <th>total intl charge</th>\n",
       "      <th>customer service calls</th>\n",
       "      <th>churn</th>\n",
       "    </tr>\n",
       "  </thead>\n",
       "  <tbody>\n",
       "    <tr>\n",
       "      <th>0</th>\n",
       "      <td>KS</td>\n",
       "      <td>128</td>\n",
       "      <td>415</td>\n",
       "      <td>382-4657</td>\n",
       "      <td>no</td>\n",
       "      <td>yes</td>\n",
       "      <td>25</td>\n",
       "      <td>265.1</td>\n",
       "      <td>110</td>\n",
       "      <td>45.07</td>\n",
       "      <td>...</td>\n",
       "      <td>99</td>\n",
       "      <td>16.78</td>\n",
       "      <td>244.7</td>\n",
       "      <td>91</td>\n",
       "      <td>11.01</td>\n",
       "      <td>10.0</td>\n",
       "      <td>3</td>\n",
       "      <td>2.70</td>\n",
       "      <td>1</td>\n",
       "      <td>False</td>\n",
       "    </tr>\n",
       "    <tr>\n",
       "      <th>1</th>\n",
       "      <td>OH</td>\n",
       "      <td>107</td>\n",
       "      <td>415</td>\n",
       "      <td>371-7191</td>\n",
       "      <td>no</td>\n",
       "      <td>yes</td>\n",
       "      <td>26</td>\n",
       "      <td>161.6</td>\n",
       "      <td>123</td>\n",
       "      <td>27.47</td>\n",
       "      <td>...</td>\n",
       "      <td>103</td>\n",
       "      <td>16.62</td>\n",
       "      <td>254.4</td>\n",
       "      <td>103</td>\n",
       "      <td>11.45</td>\n",
       "      <td>13.7</td>\n",
       "      <td>3</td>\n",
       "      <td>3.70</td>\n",
       "      <td>1</td>\n",
       "      <td>False</td>\n",
       "    </tr>\n",
       "    <tr>\n",
       "      <th>2</th>\n",
       "      <td>NJ</td>\n",
       "      <td>137</td>\n",
       "      <td>415</td>\n",
       "      <td>358-1921</td>\n",
       "      <td>no</td>\n",
       "      <td>no</td>\n",
       "      <td>0</td>\n",
       "      <td>243.4</td>\n",
       "      <td>114</td>\n",
       "      <td>41.38</td>\n",
       "      <td>...</td>\n",
       "      <td>110</td>\n",
       "      <td>10.30</td>\n",
       "      <td>162.6</td>\n",
       "      <td>104</td>\n",
       "      <td>7.32</td>\n",
       "      <td>12.2</td>\n",
       "      <td>5</td>\n",
       "      <td>3.29</td>\n",
       "      <td>0</td>\n",
       "      <td>False</td>\n",
       "    </tr>\n",
       "    <tr>\n",
       "      <th>3</th>\n",
       "      <td>OH</td>\n",
       "      <td>84</td>\n",
       "      <td>408</td>\n",
       "      <td>375-9999</td>\n",
       "      <td>yes</td>\n",
       "      <td>no</td>\n",
       "      <td>0</td>\n",
       "      <td>299.4</td>\n",
       "      <td>71</td>\n",
       "      <td>50.90</td>\n",
       "      <td>...</td>\n",
       "      <td>88</td>\n",
       "      <td>5.26</td>\n",
       "      <td>196.9</td>\n",
       "      <td>89</td>\n",
       "      <td>8.86</td>\n",
       "      <td>6.6</td>\n",
       "      <td>7</td>\n",
       "      <td>1.78</td>\n",
       "      <td>2</td>\n",
       "      <td>False</td>\n",
       "    </tr>\n",
       "    <tr>\n",
       "      <th>4</th>\n",
       "      <td>OK</td>\n",
       "      <td>75</td>\n",
       "      <td>415</td>\n",
       "      <td>330-6626</td>\n",
       "      <td>yes</td>\n",
       "      <td>no</td>\n",
       "      <td>0</td>\n",
       "      <td>166.7</td>\n",
       "      <td>113</td>\n",
       "      <td>28.34</td>\n",
       "      <td>...</td>\n",
       "      <td>122</td>\n",
       "      <td>12.61</td>\n",
       "      <td>186.9</td>\n",
       "      <td>121</td>\n",
       "      <td>8.41</td>\n",
       "      <td>10.1</td>\n",
       "      <td>3</td>\n",
       "      <td>2.73</td>\n",
       "      <td>3</td>\n",
       "      <td>False</td>\n",
       "    </tr>\n",
       "  </tbody>\n",
       "</table>\n",
       "<p>5 rows × 21 columns</p>\n",
       "</div>"
      ],
      "text/plain": [
       "  state  account length  area code phone number international plan  \\\n",
       "0    KS             128        415     382-4657                 no   \n",
       "1    OH             107        415     371-7191                 no   \n",
       "2    NJ             137        415     358-1921                 no   \n",
       "3    OH              84        408     375-9999                yes   \n",
       "4    OK              75        415     330-6626                yes   \n",
       "\n",
       "  voice mail plan  number vmail messages  total day minutes  total day calls  \\\n",
       "0             yes                     25              265.1              110   \n",
       "1             yes                     26              161.6              123   \n",
       "2              no                      0              243.4              114   \n",
       "3              no                      0              299.4               71   \n",
       "4              no                      0              166.7              113   \n",
       "\n",
       "   total day charge  ...  total eve calls  total eve charge  \\\n",
       "0             45.07  ...               99             16.78   \n",
       "1             27.47  ...              103             16.62   \n",
       "2             41.38  ...              110             10.30   \n",
       "3             50.90  ...               88              5.26   \n",
       "4             28.34  ...              122             12.61   \n",
       "\n",
       "   total night minutes  total night calls  total night charge  \\\n",
       "0                244.7                 91               11.01   \n",
       "1                254.4                103               11.45   \n",
       "2                162.6                104                7.32   \n",
       "3                196.9                 89                8.86   \n",
       "4                186.9                121                8.41   \n",
       "\n",
       "   total intl minutes  total intl calls  total intl charge  \\\n",
       "0                10.0                 3               2.70   \n",
       "1                13.7                 3               3.70   \n",
       "2                12.2                 5               3.29   \n",
       "3                 6.6                 7               1.78   \n",
       "4                10.1                 3               2.73   \n",
       "\n",
       "   customer service calls  churn  \n",
       "0                       1  False  \n",
       "1                       1  False  \n",
       "2                       0  False  \n",
       "3                       2  False  \n",
       "4                       3  False  \n",
       "\n",
       "[5 rows x 21 columns]"
      ]
     },
     "execution_count": 3,
     "metadata": {},
     "output_type": "execute_result"
    }
   ],
   "source": [
    " #read csv file and check the data \n",
    "syriatel = pd.read_csv('bigml.csv')\n",
    "syriatel.head()\n"
   ]
  },
  {
   "cell_type": "code",
   "execution_count": 4,
   "metadata": {},
   "outputs": [
    {
     "data": {
      "text/plain": [
       "(3333, 21)"
      ]
     },
     "execution_count": 4,
     "metadata": {},
     "output_type": "execute_result"
    }
   ],
   "source": [
    "#check the shape of the data\n",
    "syriatel.shape"
   ]
  },
  {
   "cell_type": "code",
   "execution_count": 5,
   "metadata": {},
   "outputs": [
    {
     "name": "stdout",
     "output_type": "stream",
     "text": [
      "<class 'pandas.core.frame.DataFrame'>\n",
      "RangeIndex: 3333 entries, 0 to 3332\n",
      "Data columns (total 21 columns):\n",
      " #   Column                  Non-Null Count  Dtype  \n",
      "---  ------                  --------------  -----  \n",
      " 0   state                   3333 non-null   object \n",
      " 1   account length          3333 non-null   int64  \n",
      " 2   area code               3333 non-null   int64  \n",
      " 3   phone number            3333 non-null   object \n",
      " 4   international plan      3333 non-null   object \n",
      " 5   voice mail plan         3333 non-null   object \n",
      " 6   number vmail messages   3333 non-null   int64  \n",
      " 7   total day minutes       3333 non-null   float64\n",
      " 8   total day calls         3333 non-null   int64  \n",
      " 9   total day charge        3333 non-null   float64\n",
      " 10  total eve minutes       3333 non-null   float64\n",
      " 11  total eve calls         3333 non-null   int64  \n",
      " 12  total eve charge        3333 non-null   float64\n",
      " 13  total night minutes     3333 non-null   float64\n",
      " 14  total night calls       3333 non-null   int64  \n",
      " 15  total night charge      3333 non-null   float64\n",
      " 16  total intl minutes      3333 non-null   float64\n",
      " 17  total intl calls        3333 non-null   int64  \n",
      " 18  total intl charge       3333 non-null   float64\n",
      " 19  customer service calls  3333 non-null   int64  \n",
      " 20  churn                   3333 non-null   bool   \n",
      "dtypes: bool(1), float64(8), int64(8), object(4)\n",
      "memory usage: 524.2+ KB\n"
     ]
    }
   ],
   "source": [
    "# check for data information \n",
    "syriatel.info()"
   ]
  },
  {
   "cell_type": "markdown",
   "metadata": {},
   "source": [
    "- The columns of phone number and account length are not important for this analysis hence we drop them.\n",
    "- The dataset contains categorical and numerical columns."
   ]
  },
  {
   "cell_type": "markdown",
   "metadata": {},
   "source": [
    "## Summary of Features in the Dataset"
   ]
  },
  {
   "cell_type": "markdown",
   "metadata": {},
   "source": [
    "- state: the state the customer lives in\n",
    "- account length: the number of days the customer has had an account\n",
    "- area code: the area code of the customer\n",
    "- phone number: the phone number of the customer\n",
    "- international plan: true if the customer has the international plan, otherwise false\n",
    "- voice mail plan: true if the customer has the voice mail plan, otherwise false\n",
    "- number vmail messages: the number of voicemails the customer has sent\n",
    "- total day minutes: total number of minutes the customer has been in calls during the day\n",
    "- total day calls: total number of calls the user has done during the day\n",
    "- total day charge: total amount of money the customer was charged by the Telecom company for calls during the day\n",
    "- total eve minutes: total number of minutes the customer has been in calls during the evening\n",
    "- total eve calls: total number of calls the customer has done during the evening\n",
    "- total eve charge: total amount of money the customer was charged by the Telecom company for calls during the evening\n",
    "- total night minutes: total number of minutes the customer has been in calls during the night\n",
    "- total night calls: total number of calls the customer has done during the night\n",
    "- total night charge: total amount of money the customer was charged by the Telecom company for calls during the night\n",
    "- total intl minutes: total number of minutes the user has been in international calls\n",
    "- total intl calls: total number of international calls the customer has done\n",
    "- total intl charge: total amount of money the customer was charged by the Telecom company for international calls\n",
    "- customer service calls: number of calls the customer has made to customer service\n",
    "- churn: true if the customer terminated their contract, otherwise false"
   ]
  },
  {
   "cell_type": "markdown",
   "metadata": {},
   "source": [
    "## Data Cleaning and Preparation"
   ]
  },
  {
   "cell_type": "markdown",
   "metadata": {},
   "source": [
    ">This section prepares the data for EDA and modeling. The dataset will be checked for:\n",
    "\n",
    "- duplicated rows\n",
    "- missing values"
   ]
  },
  {
   "cell_type": "code",
   "execution_count": 6,
   "metadata": {},
   "outputs": [
    {
     "data": {
      "text/plain": [
       "state                     0\n",
       "account length            0\n",
       "area code                 0\n",
       "phone number              0\n",
       "international plan        0\n",
       "voice mail plan           0\n",
       "number vmail messages     0\n",
       "total day minutes         0\n",
       "total day calls           0\n",
       "total day charge          0\n",
       "total eve minutes         0\n",
       "total eve calls           0\n",
       "total eve charge          0\n",
       "total night minutes       0\n",
       "total night calls         0\n",
       "total night charge        0\n",
       "total intl minutes        0\n",
       "total intl calls          0\n",
       "total intl charge         0\n",
       "customer service calls    0\n",
       "churn                     0\n",
       "dtype: int64"
      ]
     },
     "execution_count": 6,
     "metadata": {},
     "output_type": "execute_result"
    }
   ],
   "source": [
    "# missing values\n",
    "syriatel.isnull().sum()"
   ]
  },
  {
   "cell_type": "code",
   "execution_count": 7,
   "metadata": {},
   "outputs": [
    {
     "data": {
      "text/plain": [
       "0"
      ]
     },
     "execution_count": 7,
     "metadata": {},
     "output_type": "execute_result"
    }
   ],
   "source": [
    "# check for duplicates\n",
    "syriatel.duplicated().sum()"
   ]
  },
  {
   "cell_type": "markdown",
   "metadata": {},
   "source": [
    "## Exploratory Data Analysis "
   ]
  },
  {
   "cell_type": "code",
   "execution_count": 8,
   "metadata": {},
   "outputs": [
    {
     "data": {
      "text/plain": [
       "state                       51\n",
       "account length             212\n",
       "area code                    3\n",
       "phone number              3333\n",
       "international plan           2\n",
       "voice mail plan              2\n",
       "number vmail messages       46\n",
       "total day minutes         1667\n",
       "total day calls            119\n",
       "total day charge          1667\n",
       "total eve minutes         1611\n",
       "total eve calls            123\n",
       "total eve charge          1440\n",
       "total night minutes       1591\n",
       "total night calls          120\n",
       "total night charge         933\n",
       "total intl minutes         162\n",
       "total intl calls            21\n",
       "total intl charge          162\n",
       "customer service calls      10\n",
       "churn                        2\n",
       "dtype: int64"
      ]
     },
     "execution_count": 8,
     "metadata": {},
     "output_type": "execute_result"
    }
   ],
   "source": [
    "# the number of unique values for each column in the dataset\n",
    "syriatel.nunique()"
   ]
  },
  {
   "cell_type": "markdown",
   "metadata": {},
   "source": [
    "### Dropping Some Columns From The Dataset."
   ]
  },
  {
   "cell_type": "markdown",
   "metadata": {},
   "source": [
    "> Dropped the account length, phone number, state, and area code columns due to the following reasons:\n",
    "\n",
    "- The phone number lacks information about customer behavior.\n",
    "- The account length is not a reliable measure of the client's tenure as a customer in this context. Assuming the account length accurately represents customer loyalty would be invalid without additional information.\n",
    "- Including the area code and state in the dataset restricts predictions to specific areas, making predictions beyond the defined locations unfeasible."
   ]
  },
  {
   "cell_type": "code",
   "execution_count": 9,
   "metadata": {},
   "outputs": [
    {
     "data": {
      "text/html": [
       "<div>\n",
       "<style scoped>\n",
       "    .dataframe tbody tr th:only-of-type {\n",
       "        vertical-align: middle;\n",
       "    }\n",
       "\n",
       "    .dataframe tbody tr th {\n",
       "        vertical-align: top;\n",
       "    }\n",
       "\n",
       "    .dataframe thead th {\n",
       "        text-align: right;\n",
       "    }\n",
       "</style>\n",
       "<table border=\"1\" class=\"dataframe\">\n",
       "  <thead>\n",
       "    <tr style=\"text-align: right;\">\n",
       "      <th></th>\n",
       "      <th>international plan</th>\n",
       "      <th>voice mail plan</th>\n",
       "      <th>number vmail messages</th>\n",
       "      <th>total day minutes</th>\n",
       "      <th>total day calls</th>\n",
       "      <th>total day charge</th>\n",
       "      <th>total eve minutes</th>\n",
       "      <th>total eve calls</th>\n",
       "      <th>total eve charge</th>\n",
       "      <th>total night minutes</th>\n",
       "      <th>total night calls</th>\n",
       "      <th>total night charge</th>\n",
       "      <th>total intl minutes</th>\n",
       "      <th>total intl calls</th>\n",
       "      <th>total intl charge</th>\n",
       "      <th>customer service calls</th>\n",
       "      <th>churn</th>\n",
       "    </tr>\n",
       "  </thead>\n",
       "  <tbody>\n",
       "    <tr>\n",
       "      <th>0</th>\n",
       "      <td>no</td>\n",
       "      <td>yes</td>\n",
       "      <td>25</td>\n",
       "      <td>265.1</td>\n",
       "      <td>110</td>\n",
       "      <td>45.07</td>\n",
       "      <td>197.4</td>\n",
       "      <td>99</td>\n",
       "      <td>16.78</td>\n",
       "      <td>244.7</td>\n",
       "      <td>91</td>\n",
       "      <td>11.01</td>\n",
       "      <td>10.0</td>\n",
       "      <td>3</td>\n",
       "      <td>2.70</td>\n",
       "      <td>1</td>\n",
       "      <td>False</td>\n",
       "    </tr>\n",
       "    <tr>\n",
       "      <th>1</th>\n",
       "      <td>no</td>\n",
       "      <td>yes</td>\n",
       "      <td>26</td>\n",
       "      <td>161.6</td>\n",
       "      <td>123</td>\n",
       "      <td>27.47</td>\n",
       "      <td>195.5</td>\n",
       "      <td>103</td>\n",
       "      <td>16.62</td>\n",
       "      <td>254.4</td>\n",
       "      <td>103</td>\n",
       "      <td>11.45</td>\n",
       "      <td>13.7</td>\n",
       "      <td>3</td>\n",
       "      <td>3.70</td>\n",
       "      <td>1</td>\n",
       "      <td>False</td>\n",
       "    </tr>\n",
       "    <tr>\n",
       "      <th>2</th>\n",
       "      <td>no</td>\n",
       "      <td>no</td>\n",
       "      <td>0</td>\n",
       "      <td>243.4</td>\n",
       "      <td>114</td>\n",
       "      <td>41.38</td>\n",
       "      <td>121.2</td>\n",
       "      <td>110</td>\n",
       "      <td>10.30</td>\n",
       "      <td>162.6</td>\n",
       "      <td>104</td>\n",
       "      <td>7.32</td>\n",
       "      <td>12.2</td>\n",
       "      <td>5</td>\n",
       "      <td>3.29</td>\n",
       "      <td>0</td>\n",
       "      <td>False</td>\n",
       "    </tr>\n",
       "    <tr>\n",
       "      <th>3</th>\n",
       "      <td>yes</td>\n",
       "      <td>no</td>\n",
       "      <td>0</td>\n",
       "      <td>299.4</td>\n",
       "      <td>71</td>\n",
       "      <td>50.90</td>\n",
       "      <td>61.9</td>\n",
       "      <td>88</td>\n",
       "      <td>5.26</td>\n",
       "      <td>196.9</td>\n",
       "      <td>89</td>\n",
       "      <td>8.86</td>\n",
       "      <td>6.6</td>\n",
       "      <td>7</td>\n",
       "      <td>1.78</td>\n",
       "      <td>2</td>\n",
       "      <td>False</td>\n",
       "    </tr>\n",
       "    <tr>\n",
       "      <th>4</th>\n",
       "      <td>yes</td>\n",
       "      <td>no</td>\n",
       "      <td>0</td>\n",
       "      <td>166.7</td>\n",
       "      <td>113</td>\n",
       "      <td>28.34</td>\n",
       "      <td>148.3</td>\n",
       "      <td>122</td>\n",
       "      <td>12.61</td>\n",
       "      <td>186.9</td>\n",
       "      <td>121</td>\n",
       "      <td>8.41</td>\n",
       "      <td>10.1</td>\n",
       "      <td>3</td>\n",
       "      <td>2.73</td>\n",
       "      <td>3</td>\n",
       "      <td>False</td>\n",
       "    </tr>\n",
       "  </tbody>\n",
       "</table>\n",
       "</div>"
      ],
      "text/plain": [
       "  international plan voice mail plan  number vmail messages  \\\n",
       "0                 no             yes                     25   \n",
       "1                 no             yes                     26   \n",
       "2                 no              no                      0   \n",
       "3                yes              no                      0   \n",
       "4                yes              no                      0   \n",
       "\n",
       "   total day minutes  total day calls  total day charge  total eve minutes  \\\n",
       "0              265.1              110             45.07              197.4   \n",
       "1              161.6              123             27.47              195.5   \n",
       "2              243.4              114             41.38              121.2   \n",
       "3              299.4               71             50.90               61.9   \n",
       "4              166.7              113             28.34              148.3   \n",
       "\n",
       "   total eve calls  total eve charge  total night minutes  total night calls  \\\n",
       "0               99             16.78                244.7                 91   \n",
       "1              103             16.62                254.4                103   \n",
       "2              110             10.30                162.6                104   \n",
       "3               88              5.26                196.9                 89   \n",
       "4              122             12.61                186.9                121   \n",
       "\n",
       "   total night charge  total intl minutes  total intl calls  \\\n",
       "0               11.01                10.0                 3   \n",
       "1               11.45                13.7                 3   \n",
       "2                7.32                12.2                 5   \n",
       "3                8.86                 6.6                 7   \n",
       "4                8.41                10.1                 3   \n",
       "\n",
       "   total intl charge  customer service calls  churn  \n",
       "0               2.70                       1  False  \n",
       "1               3.70                       1  False  \n",
       "2               3.29                       0  False  \n",
       "3               1.78                       2  False  \n",
       "4               2.73                       3  False  "
      ]
     },
     "execution_count": 9,
     "metadata": {},
     "output_type": "execute_result"
    }
   ],
   "source": [
    "# List of columns to drop\n",
    "col_drop = ['account length', 'phone number', 'area code', 'state']\n",
    "\n",
    "# Check which columns exist in the DataFrame\n",
    "existing_cols = [col for col in col_drop if col in syriatel.columns]\n",
    "\n",
    "# Drop the existing columns\n",
    "syriatel.drop(columns=existing_cols, inplace=True)\n",
    "\n",
    "syriatel.head()\n"
   ]
  },
  {
   "cell_type": "code",
   "execution_count": 10,
   "metadata": {},
   "outputs": [],
   "source": [
    "#separating categorical and numerical colums for easier analysis \n",
    "numerical_df = syriatel[['number vmail messages',\n",
    "       'total day minutes', 'total day calls', 'total day charge',\n",
    "       'total eve minutes', 'total eve calls', 'total eve charge',\n",
    "       'total night minutes', 'total night calls', 'total night charge',\n",
    "       'total intl minutes', 'total intl calls', 'total intl charge',\n",
    "       'customer service calls']]\n",
    "categorical_df = syriatel[['churn', 'international plan', 'voice mail plan']]"
   ]
  },
  {
   "cell_type": "markdown",
   "metadata": {},
   "source": [
    "### Data exploration"
   ]
  },
  {
   "cell_type": "code",
   "execution_count": 11,
   "metadata": {},
   "outputs": [],
   "source": [
    "# Categorical columns\n",
    "cat_columns = ['international plan', 'voice mail plan', 'churn']\n",
    "\n",
    "# Continuous columns\n",
    "cont_columns = ['number vmail messages', 'total day minutes', 'total day calls',\n",
    "                'total day charge', 'total eve minutes', 'total eve calls',\n",
    "                'total eve charge', 'total night minutes', 'total night calls',\n",
    "                'total night charge', 'total intl minutes', 'total intl calls',\n",
    "                'total intl charge', 'customer service calls']"
   ]
  },
  {
   "cell_type": "markdown",
   "metadata": {},
   "source": [
    "###  Checking for NaN values"
   ]
  },
  {
   "cell_type": "code",
   "execution_count": 12,
   "metadata": {},
   "outputs": [
    {
     "data": {
      "text/plain": [
       "international plan        0\n",
       "voice mail plan           0\n",
       "number vmail messages     0\n",
       "total day minutes         0\n",
       "total day calls           0\n",
       "total day charge          0\n",
       "total eve minutes         0\n",
       "total eve calls           0\n",
       "total eve charge          0\n",
       "total night minutes       0\n",
       "total night calls         0\n",
       "total night charge        0\n",
       "total intl minutes        0\n",
       "total intl calls          0\n",
       "total intl charge         0\n",
       "customer service calls    0\n",
       "churn                     0\n",
       "dtype: int64"
      ]
     },
     "execution_count": 12,
     "metadata": {},
     "output_type": "execute_result"
    }
   ],
   "source": [
    "#checking for missing values \n",
    "syriatel.isna().sum()"
   ]
  },
  {
   "cell_type": "code",
   "execution_count": 13,
   "metadata": {},
   "outputs": [
    {
     "data": {
      "text/plain": [
       "False    3333\n",
       "dtype: int64"
      ]
     },
     "execution_count": 13,
     "metadata": {},
     "output_type": "execute_result"
    }
   ],
   "source": [
    "#checking for duplicates \n",
    "syriatel.duplicated().value_counts()"
   ]
  },
  {
   "cell_type": "markdown",
   "metadata": {},
   "source": [
    "> From the above data checking we have got no missing values and no duplicates value. Our data is ready for further analysis."
   ]
  },
  {
   "cell_type": "markdown",
   "metadata": {},
   "source": [
    "## Explanatory Data Analysis"
   ]
  },
  {
   "cell_type": "code",
   "execution_count": 14,
   "metadata": {},
   "outputs": [
    {
     "data": {
      "text/html": [
       "<div>\n",
       "<style scoped>\n",
       "    .dataframe tbody tr th:only-of-type {\n",
       "        vertical-align: middle;\n",
       "    }\n",
       "\n",
       "    .dataframe tbody tr th {\n",
       "        vertical-align: top;\n",
       "    }\n",
       "\n",
       "    .dataframe thead th {\n",
       "        text-align: right;\n",
       "    }\n",
       "</style>\n",
       "<table border=\"1\" class=\"dataframe\">\n",
       "  <thead>\n",
       "    <tr style=\"text-align: right;\">\n",
       "      <th></th>\n",
       "      <th>number vmail messages</th>\n",
       "      <th>total day minutes</th>\n",
       "      <th>total day calls</th>\n",
       "      <th>total day charge</th>\n",
       "      <th>total eve minutes</th>\n",
       "      <th>total eve calls</th>\n",
       "      <th>total eve charge</th>\n",
       "      <th>total night minutes</th>\n",
       "      <th>total night calls</th>\n",
       "      <th>total night charge</th>\n",
       "      <th>total intl minutes</th>\n",
       "      <th>total intl calls</th>\n",
       "      <th>total intl charge</th>\n",
       "      <th>customer service calls</th>\n",
       "    </tr>\n",
       "  </thead>\n",
       "  <tbody>\n",
       "    <tr>\n",
       "      <th>count</th>\n",
       "      <td>3333.000000</td>\n",
       "      <td>3333.000000</td>\n",
       "      <td>3333.000000</td>\n",
       "      <td>3333.000000</td>\n",
       "      <td>3333.000000</td>\n",
       "      <td>3333.000000</td>\n",
       "      <td>3333.000000</td>\n",
       "      <td>3333.000000</td>\n",
       "      <td>3333.000000</td>\n",
       "      <td>3333.000000</td>\n",
       "      <td>3333.000000</td>\n",
       "      <td>3333.000000</td>\n",
       "      <td>3333.000000</td>\n",
       "      <td>3333.000000</td>\n",
       "    </tr>\n",
       "    <tr>\n",
       "      <th>mean</th>\n",
       "      <td>8.099010</td>\n",
       "      <td>179.775098</td>\n",
       "      <td>100.435644</td>\n",
       "      <td>30.562307</td>\n",
       "      <td>200.980348</td>\n",
       "      <td>100.114311</td>\n",
       "      <td>17.083540</td>\n",
       "      <td>200.872037</td>\n",
       "      <td>100.107711</td>\n",
       "      <td>9.039325</td>\n",
       "      <td>10.237294</td>\n",
       "      <td>4.479448</td>\n",
       "      <td>2.764581</td>\n",
       "      <td>1.562856</td>\n",
       "    </tr>\n",
       "    <tr>\n",
       "      <th>std</th>\n",
       "      <td>13.688365</td>\n",
       "      <td>54.467389</td>\n",
       "      <td>20.069084</td>\n",
       "      <td>9.259435</td>\n",
       "      <td>50.713844</td>\n",
       "      <td>19.922625</td>\n",
       "      <td>4.310668</td>\n",
       "      <td>50.573847</td>\n",
       "      <td>19.568609</td>\n",
       "      <td>2.275873</td>\n",
       "      <td>2.791840</td>\n",
       "      <td>2.461214</td>\n",
       "      <td>0.753773</td>\n",
       "      <td>1.315491</td>\n",
       "    </tr>\n",
       "    <tr>\n",
       "      <th>min</th>\n",
       "      <td>0.000000</td>\n",
       "      <td>0.000000</td>\n",
       "      <td>0.000000</td>\n",
       "      <td>0.000000</td>\n",
       "      <td>0.000000</td>\n",
       "      <td>0.000000</td>\n",
       "      <td>0.000000</td>\n",
       "      <td>23.200000</td>\n",
       "      <td>33.000000</td>\n",
       "      <td>1.040000</td>\n",
       "      <td>0.000000</td>\n",
       "      <td>0.000000</td>\n",
       "      <td>0.000000</td>\n",
       "      <td>0.000000</td>\n",
       "    </tr>\n",
       "    <tr>\n",
       "      <th>25%</th>\n",
       "      <td>0.000000</td>\n",
       "      <td>143.700000</td>\n",
       "      <td>87.000000</td>\n",
       "      <td>24.430000</td>\n",
       "      <td>166.600000</td>\n",
       "      <td>87.000000</td>\n",
       "      <td>14.160000</td>\n",
       "      <td>167.000000</td>\n",
       "      <td>87.000000</td>\n",
       "      <td>7.520000</td>\n",
       "      <td>8.500000</td>\n",
       "      <td>3.000000</td>\n",
       "      <td>2.300000</td>\n",
       "      <td>1.000000</td>\n",
       "    </tr>\n",
       "    <tr>\n",
       "      <th>50%</th>\n",
       "      <td>0.000000</td>\n",
       "      <td>179.400000</td>\n",
       "      <td>101.000000</td>\n",
       "      <td>30.500000</td>\n",
       "      <td>201.400000</td>\n",
       "      <td>100.000000</td>\n",
       "      <td>17.120000</td>\n",
       "      <td>201.200000</td>\n",
       "      <td>100.000000</td>\n",
       "      <td>9.050000</td>\n",
       "      <td>10.300000</td>\n",
       "      <td>4.000000</td>\n",
       "      <td>2.780000</td>\n",
       "      <td>1.000000</td>\n",
       "    </tr>\n",
       "    <tr>\n",
       "      <th>75%</th>\n",
       "      <td>20.000000</td>\n",
       "      <td>216.400000</td>\n",
       "      <td>114.000000</td>\n",
       "      <td>36.790000</td>\n",
       "      <td>235.300000</td>\n",
       "      <td>114.000000</td>\n",
       "      <td>20.000000</td>\n",
       "      <td>235.300000</td>\n",
       "      <td>113.000000</td>\n",
       "      <td>10.590000</td>\n",
       "      <td>12.100000</td>\n",
       "      <td>6.000000</td>\n",
       "      <td>3.270000</td>\n",
       "      <td>2.000000</td>\n",
       "    </tr>\n",
       "    <tr>\n",
       "      <th>max</th>\n",
       "      <td>51.000000</td>\n",
       "      <td>350.800000</td>\n",
       "      <td>165.000000</td>\n",
       "      <td>59.640000</td>\n",
       "      <td>363.700000</td>\n",
       "      <td>170.000000</td>\n",
       "      <td>30.910000</td>\n",
       "      <td>395.000000</td>\n",
       "      <td>175.000000</td>\n",
       "      <td>17.770000</td>\n",
       "      <td>20.000000</td>\n",
       "      <td>20.000000</td>\n",
       "      <td>5.400000</td>\n",
       "      <td>9.000000</td>\n",
       "    </tr>\n",
       "  </tbody>\n",
       "</table>\n",
       "</div>"
      ],
      "text/plain": [
       "       number vmail messages  total day minutes  total day calls  \\\n",
       "count            3333.000000        3333.000000      3333.000000   \n",
       "mean                8.099010         179.775098       100.435644   \n",
       "std                13.688365          54.467389        20.069084   \n",
       "min                 0.000000           0.000000         0.000000   \n",
       "25%                 0.000000         143.700000        87.000000   \n",
       "50%                 0.000000         179.400000       101.000000   \n",
       "75%                20.000000         216.400000       114.000000   \n",
       "max                51.000000         350.800000       165.000000   \n",
       "\n",
       "       total day charge  total eve minutes  total eve calls  total eve charge  \\\n",
       "count       3333.000000        3333.000000      3333.000000       3333.000000   \n",
       "mean          30.562307         200.980348       100.114311         17.083540   \n",
       "std            9.259435          50.713844        19.922625          4.310668   \n",
       "min            0.000000           0.000000         0.000000          0.000000   \n",
       "25%           24.430000         166.600000        87.000000         14.160000   \n",
       "50%           30.500000         201.400000       100.000000         17.120000   \n",
       "75%           36.790000         235.300000       114.000000         20.000000   \n",
       "max           59.640000         363.700000       170.000000         30.910000   \n",
       "\n",
       "       total night minutes  total night calls  total night charge  \\\n",
       "count          3333.000000        3333.000000         3333.000000   \n",
       "mean            200.872037         100.107711            9.039325   \n",
       "std              50.573847          19.568609            2.275873   \n",
       "min              23.200000          33.000000            1.040000   \n",
       "25%             167.000000          87.000000            7.520000   \n",
       "50%             201.200000         100.000000            9.050000   \n",
       "75%             235.300000         113.000000           10.590000   \n",
       "max             395.000000         175.000000           17.770000   \n",
       "\n",
       "       total intl minutes  total intl calls  total intl charge  \\\n",
       "count         3333.000000       3333.000000        3333.000000   \n",
       "mean            10.237294          4.479448           2.764581   \n",
       "std              2.791840          2.461214           0.753773   \n",
       "min              0.000000          0.000000           0.000000   \n",
       "25%              8.500000          3.000000           2.300000   \n",
       "50%             10.300000          4.000000           2.780000   \n",
       "75%             12.100000          6.000000           3.270000   \n",
       "max             20.000000         20.000000           5.400000   \n",
       "\n",
       "       customer service calls  \n",
       "count             3333.000000  \n",
       "mean                 1.562856  \n",
       "std                  1.315491  \n",
       "min                  0.000000  \n",
       "25%                  1.000000  \n",
       "50%                  1.000000  \n",
       "75%                  2.000000  \n",
       "max                  9.000000  "
      ]
     },
     "execution_count": 14,
     "metadata": {},
     "output_type": "execute_result"
    }
   ],
   "source": [
    "syriatel.describe()"
   ]
  },
  {
   "cell_type": "markdown",
   "metadata": {},
   "source": [
    ">This method offers a rapid summary of a dataset's central tendency, dispersion, and distribution shape, making it especially useful for obtaining an overview of the data."
   ]
  },
  {
   "cell_type": "markdown",
   "metadata": {},
   "source": [
    "## Relationship Visualization"
   ]
  },
  {
   "cell_type": "code",
   "execution_count": 15,
   "metadata": {},
   "outputs": [
    {
     "data": {
      "image/png": "[encoded data removed]",
      "text/plain": [
       "<Figure size 432x288 with 1 Axes>"
      ]
     },
     "metadata": {
      "needs_background": "light"
     },
     "output_type": "display_data"
    },
    {
     "name": "stdout",
     "output_type": "stream",
     "text": [
      "False    2850\n",
      "True      483\n",
      "Name: churn, dtype: int64\n"
     ]
    }
   ],
   "source": [
    "# Distribution of Churn\n",
    "sns.countplot(x='churn', data=syriatel, palette='dark')\n",
    "plt.title('Churn Distribution')\n",
    "plt.xlabel('Churn')\n",
    "plt.ylabel('Frequency')\n",
    "plt.show()\n",
    "\n",
    "print(syriatel['churn'].value_counts())"
   ]
  },
  {
   "cell_type": "markdown",
   "metadata": {},
   "source": [
    "> From the above visulization it clearly shows that most of the customers are more loyal to SyriaTel."
   ]
  },
  {
   "cell_type": "code",
   "execution_count": 16,
   "metadata": {},
   "outputs": [
    {
     "data": {
      "image/png": "[encoded data removed]",
      "text/plain": [
       "<Figure size 864x288 with 3 Axes>"
      ]
     },
     "metadata": {
      "needs_background": "light"
     },
     "output_type": "display_data"
    }
   ],
   "source": [
    "#total charge of calls per area code\n",
    "\n",
    "# Create subplots for each variable\n",
    "fig, axs = plt.subplots(1, 3, figsize=(12, 4))\n",
    "\n",
    "# Plot histograms for each variable\n",
    "axs[0].hist(syriatel['total day minutes'], bins=20, edgecolor='k')\n",
    "axs[0].set_title('Total day minutes')\n",
    "axs[0].set_xlabel('Minutes')\n",
    "axs[0].set_ylabel('Frequency')\n",
    "\n",
    "axs[1].hist(syriatel['total eve minutes'], bins=20, edgecolor='k')\n",
    "axs[1].set_title('Total evening minutes')\n",
    "axs[1].set_xlabel('Minutes')\n",
    "axs[1].set_ylabel('Frequency')\n",
    "\n",
    "axs[2].hist(syriatel['total night minutes'], bins=20, edgecolor='k')\n",
    "axs[2].set_title('Total night minutes')\n",
    "axs[2].set_xlabel('Minutes')\n",
    "axs[2].set_ylabel('Frequency')\n",
    "\n",
    "# Adjust spacing between subplots\n",
    "plt.tight_layout()\n",
    "\n",
    "# Display the plots\n",
    "plt.show()"
   ]
  },
  {
   "cell_type": "markdown",
   "metadata": {},
   "source": [
    "- Distribution of total ninutes a day, in the evening and at night is normal.\n",
    "- Both the total evening and total night have a mean of around 200 while total day minutes has mean of around 150 from the graph.\n",
    "- All the total calls made on different times of the day have almost same mean."
   ]
  },
  {
   "cell_type": "code",
   "execution_count": 17,
   "metadata": {},
   "outputs": [
    {
     "data": {
      "image/png": "[encoded data removed]",
      "text/plain": [
       "<Figure size 432x288 with 1 Axes>"
      ]
     },
     "metadata": {
      "needs_background": "light"
     },
     "output_type": "display_data"
    }
   ],
   "source": [
    "#the international calls made by people \n",
    "# Group by 'international plan' and calculate the mean of 'total intl calls'\n",
    "grouped_data = syriatel.groupby('international plan')['total intl calls'].mean()\n",
    "\n",
    "# Plot the bar plot\n",
    "fig, ax = plt.subplots()\n",
    "grouped_data.plot(kind='bar', color=['blue', 'yellow'], ax=ax)\n",
    "\n",
    "# Add labels and title to the plot\n",
    "ax.set_xlabel('International Plan')\n",
    "ax.set_ylabel('Average Total Intl Calls')\n",
    "ax.set_title('Average Total Intl Calls by International Plan')\n",
    "\n",
    "# Display the plot\n",
    "plt.show()"
   ]
  },
  {
   "cell_type": "code",
   "execution_count": 18,
   "metadata": {},
   "outputs": [
    {
     "data": {
      "text/plain": [
       "<AxesSubplot:xlabel='count', ylabel='customer service calls'>"
      ]
     },
     "execution_count": 18,
     "metadata": {},
     "output_type": "execute_result"
    },
    {
     "data": {
      "image/png": "[encoded data removed]",
      "text/plain": [
       "<Figure size 432x288 with 1 Axes>"
      ]
     },
     "metadata": {
      "needs_background": "light"
     },
     "output_type": "display_data"
    }
   ],
   "source": [
    "#Relationship between the number of calls to the call center and loyalty\n",
    "\n",
    "sns.countplot(y='customer service calls', hue='churn', data=syriatel) "
   ]
  },
  {
   "cell_type": "markdown",
   "metadata": {},
   "source": [
    "> The chart above depicts the relationship between the number of calls to the call center and loyalty. It shows that there is higher relationship between calls and loyalty, most people making the calls are loyal to Syriatel hence  low probalility of switching."
   ]
  },
  {
   "cell_type": "code",
   "execution_count": 19,
   "metadata": {},
   "outputs": [
    {
     "data": {
      "image/png": "[encoded data removed]",
      "text/plain": [
       "<Figure size 720x360 with 2 Axes>"
      ]
     },
     "metadata": {
      "needs_background": "light"
     },
     "output_type": "display_data"
    }
   ],
   "source": [
    "#visualizing for the international calls made by people \n",
    "# Map the values in 'voice mail plan' column to labels\n",
    "\n",
    "# Create a figure with one row and two columns\n",
    "fig, axes = plt.subplots(1, 2, figsize=(10, 5))\n",
    "\n",
    "# Plot the first subplot: International Plan\n",
    "syriatel.groupby('international plan')['churn'].mean().plot(kind='bar', ax=axes[0], color=['blue', 'magenta'])\n",
    "axes[0].set_xlabel('International Plan')\n",
    "axes[0].set_ylabel('Churn Rate')\n",
    "axes[0].set_title('Churn Rate by International Plan')\n",
    "\n",
    "# Plot the second subplot: Voice Mail Plan\n",
    "syriatel.groupby('voice mail plan')['churn'].mean().plot(kind='bar', ax=axes[1], color=['blue', 'magenta'])\n",
    "axes[1].set_xlabel('Voice Mail Plan')\n",
    "axes[1].set_ylabel('Churn Rate')\n",
    "axes[1].set_title('Churn Rate by Voice Mail Plan')\n",
    "\n",
    "# Adjust the spacing between subplots\n",
    "plt.tight_layout()\n",
    "\n",
    "# Display the plot\n",
    "plt.show()"
   ]
  },
  {
   "cell_type": "markdown",
   "metadata": {},
   "source": [
    "- Looking at the graph above it shows that more customers loyalty is beacause of Voice mail plan subscribers due to lower churn rate\n",
    "- Customers have higher rate of churn from Syriatel in terms of international plan.\n",
    "- This shows that customers are more happy with voice mail than international plan."
   ]
  },
  {
   "cell_type": "markdown",
   "metadata": {},
   "source": [
    "### Outliers"
   ]
  },
  {
   "cell_type": "code",
   "execution_count": 23,
   "metadata": {},
   "outputs": [
    {
     "ename": "ValueError",
     "evalue": "The truth value of an array with more than one element is ambiguous. Use a.any() or a.all()",
     "output_type": "error",
     "traceback": [
      "\u001b[1;31m---------------------------------------------------------------------------\u001b[0m",
      "\u001b[1;31mValueError\u001b[0m                                Traceback (most recent call last)",
      "\u001b[1;32m<ipython-input-23-631f3bbe770b>\u001b[0m in \u001b[0;36m<module>\u001b[1;34m\u001b[0m\n\u001b[0;32m     15\u001b[0m \u001b[1;33m\u001b[0m\u001b[0m\n\u001b[0;32m     16\u001b[0m \u001b[1;31m# Example usage with numerical_df\u001b[0m\u001b[1;33m\u001b[0m\u001b[1;33m\u001b[0m\u001b[1;33m\u001b[0m\u001b[0m\n\u001b[1;32m---> 17\u001b[1;33m \u001b[0moutliers_sum\u001b[0m \u001b[1;33m=\u001b[0m \u001b[0mfind_outliers\u001b[0m\u001b[1;33m(\u001b[0m\u001b[0mnumerical_df\u001b[0m\u001b[1;33m)\u001b[0m\u001b[1;33m.\u001b[0m\u001b[0msum\u001b[0m\u001b[1;33m(\u001b[0m\u001b[1;33m)\u001b[0m\u001b[1;33m\u001b[0m\u001b[1;33m\u001b[0m\u001b[0m\n\u001b[0m\u001b[0;32m     18\u001b[0m \u001b[0mprint\u001b[0m\u001b[1;33m(\u001b[0m\u001b[0moutliers_sum\u001b[0m\u001b[1;33m)\u001b[0m\u001b[1;33m\u001b[0m\u001b[1;33m\u001b[0m\u001b[0m\n",
      "\u001b[1;32m<ipython-input-23-631f3bbe770b>\u001b[0m in \u001b[0;36mfind_outliers\u001b[1;34m(numerical_df)\u001b[0m\n\u001b[0;32m     11\u001b[0m     \u001b[0mupper_bound\u001b[0m \u001b[1;33m=\u001b[0m \u001b[0mq3\u001b[0m \u001b[1;33m+\u001b[0m \u001b[1;36m1.5\u001b[0m \u001b[1;33m*\u001b[0m \u001b[0miqr\u001b[0m\u001b[1;33m\u001b[0m\u001b[1;33m\u001b[0m\u001b[0m\n\u001b[0;32m     12\u001b[0m \u001b[1;33m\u001b[0m\u001b[0m\n\u001b[1;32m---> 13\u001b[1;33m     \u001b[0moutliers\u001b[0m \u001b[1;33m=\u001b[0m \u001b[1;33m[\u001b[0m\u001b[0mx\u001b[0m \u001b[1;32mfor\u001b[0m \u001b[0mx\u001b[0m \u001b[1;32min\u001b[0m \u001b[0mnumerical_df\u001b[0m \u001b[1;32mif\u001b[0m \u001b[0mx\u001b[0m \u001b[1;33m<\u001b[0m \u001b[0mlower_bound\u001b[0m \u001b[1;32mor\u001b[0m \u001b[0mx\u001b[0m \u001b[1;33m>\u001b[0m \u001b[0mupper_bound\u001b[0m\u001b[1;33m]\u001b[0m\u001b[1;33m\u001b[0m\u001b[1;33m\u001b[0m\u001b[0m\n\u001b[0m\u001b[0;32m     14\u001b[0m     \u001b[1;32mreturn\u001b[0m \u001b[0moutliers\u001b[0m\u001b[1;33m\u001b[0m\u001b[1;33m\u001b[0m\u001b[0m\n\u001b[0;32m     15\u001b[0m \u001b[1;33m\u001b[0m\u001b[0m\n",
      "\u001b[1;32m<ipython-input-23-631f3bbe770b>\u001b[0m in \u001b[0;36m<listcomp>\u001b[1;34m(.0)\u001b[0m\n\u001b[0;32m     11\u001b[0m     \u001b[0mupper_bound\u001b[0m \u001b[1;33m=\u001b[0m \u001b[0mq3\u001b[0m \u001b[1;33m+\u001b[0m \u001b[1;36m1.5\u001b[0m \u001b[1;33m*\u001b[0m \u001b[0miqr\u001b[0m\u001b[1;33m\u001b[0m\u001b[1;33m\u001b[0m\u001b[0m\n\u001b[0;32m     12\u001b[0m \u001b[1;33m\u001b[0m\u001b[0m\n\u001b[1;32m---> 13\u001b[1;33m     \u001b[0moutliers\u001b[0m \u001b[1;33m=\u001b[0m \u001b[1;33m[\u001b[0m\u001b[0mx\u001b[0m \u001b[1;32mfor\u001b[0m \u001b[0mx\u001b[0m \u001b[1;32min\u001b[0m \u001b[0mnumerical_df\u001b[0m \u001b[1;32mif\u001b[0m \u001b[0mx\u001b[0m \u001b[1;33m<\u001b[0m \u001b[0mlower_bound\u001b[0m \u001b[1;32mor\u001b[0m \u001b[0mx\u001b[0m \u001b[1;33m>\u001b[0m \u001b[0mupper_bound\u001b[0m\u001b[1;33m]\u001b[0m\u001b[1;33m\u001b[0m\u001b[1;33m\u001b[0m\u001b[0m\n\u001b[0m\u001b[0;32m     14\u001b[0m     \u001b[1;32mreturn\u001b[0m \u001b[0moutliers\u001b[0m\u001b[1;33m\u001b[0m\u001b[1;33m\u001b[0m\u001b[0m\n\u001b[0;32m     15\u001b[0m \u001b[1;33m\u001b[0m\u001b[0m\n",
      "\u001b[1;31mValueError\u001b[0m: The truth value of an array with more than one element is ambiguous. Use a.any() or a.all()"
     ]
    }
   ],
   "source": [
    "import numpy as np\n",
    "\n",
    "def find_outliers(numerical_df):\n",
    "    # Ensure data is a numpy array of numeric type\n",
    "    numerical_df = np.array(numerical_df, dtype=np.float64)\n",
    "    \n",
    "    q1 = np.percentile(numerical_df, 25)\n",
    "    q3 = np.percentile(numerical_df, 75)\n",
    "    iqr = q3 - q1\n",
    "    lower_bound = q1 - 1.5 * iqr\n",
    "    upper_bound = q3 + 1.5 * iqr\n",
    "    \n",
    "    outliers = [x for x in numerical_df if x < lower_bound or x > upper_bound]\n",
    "    return outliers\n",
    "\n",
    "# Example usage with numerical_df\n",
    "outliers_sum = find_outliers(numerical_df).sum()\n",
    "print(outliers_sum)\n"
   ]
  },
  {
   "cell_type": "code",
   "execution_count": 24,
   "metadata": {},
   "outputs": [
    {
     "name": "stdout",
     "output_type": "stream",
     "text": [
      "{'number vmail messages': 51, 'total day minutes': 3928.2000000000003, 'total day calls': 1807, 'total day charge': 667.8100000000001, 'total eve minutes': 4175.9, 'total eve calls': 1836, 'total eve charge': 354.95000000000005, 'total night minutes': 6180.799999999999, 'total night calls': 2647, 'total night charge': 278.13, 'total intl minutes': 286.59999999999997, 'total intl calls': 1001, 'total intl charge': 91.57000000000001, 'customer service calls': 1223}\n"
     ]
    }
   ],
   "source": [
    "def find_outliers(df):\n",
    "    outliers = {}\n",
    "    for column in df.columns:\n",
    "        data = df[column].dropna()  # Drop NaN values\n",
    "        q1 = np.percentile(data, 25)\n",
    "        q3 = np.percentile(data, 75)\n",
    "        iqr = q3 - q1\n",
    "        lower_bound = q1 - 1.5 * iqr\n",
    "        upper_bound = q3 + 1.5 * iqr\n",
    "        \n",
    "        outliers[column] = data[(data < lower_bound) | (data > upper_bound)].sum()\n",
    "    return outliers\n",
    "\n",
    "# Example usage with numerical_df\n",
    "outliers_sum = find_outliers(numerical_df)\n",
    "print(outliers_sum)\n"
   ]
  },
  {
   "cell_type": "code",
   "execution_count": 25,
   "metadata": {},
   "outputs": [],
   "source": [
    "import numpy as np\n",
    "\n",
    "def find_outliers(data):\n",
    "    \"\"\"\n",
    "    Finds outliers in a dataset using the interquartile range (IQR) method.\n",
    "    \n",
    "    Parameters:\n",
    "    - data: A list or numpy array of numerical values.\n",
    "    \n",
    "    Returns:\n",
    "    - outliers: A list of the outlier values.\n",
    "    \"\"\"\n",
    "    q1, q3 = np.percentile(data, [25, 75])\n",
    "    iqr = q3 - q1\n",
    "    lower_bound = q1 - 1.5 * iqr\n",
    "    upper_bound = q3 + 1.5 * iqr\n",
    "    \n",
    "    outliers = [x for x in data if x < lower_bound or x > upper_bound]\n",
    "    return outliers\n"
   ]
  },
  {
   "cell_type": "code",
   "execution_count": 28,
   "metadata": {},
   "outputs": [
    {
     "name": "stdout",
     "output_type": "stream",
     "text": [
      "24528.96\n"
     ]
    }
   ],
   "source": [
    "def find_outliers(df):\n",
    "    outliers = {}\n",
    "    for column in df.columns:\n",
    "        # Ensure the column is numeric\n",
    "        if pd.api.types.is_numeric_dtype(df[column]):\n",
    "            data = df[column].dropna()  # Drop NaN values\n",
    "            q1 = np.percentile(data, 25)\n",
    "            q3 = np.percentile(data, 75)\n",
    "            iqr = q3 - q1\n",
    "            lower_bound = q1 - 1.5 * iqr\n",
    "            upper_bound = q3 + 1.5 * iqr\n",
    "\n",
    "            outliers[column] = data[(data < lower_bound) | (data > upper_bound)].sum()\n",
    "        else:\n",
    "            outliers[column] = 0  # If the column is not numeric, set outliers sum to 0\n",
    "    return outliers\n",
    "\n",
    "# Example usage with numerical_df\n",
    "outliers_sum_dict = find_outliers(numerical_df)\n",
    "outliers_sum_total = sum(outliers_sum_dict.values())\n",
    "print(outliers_sum_total)\n"
   ]
  },
  {
   "cell_type": "code",
   "execution_count": 29,
   "metadata": {},
   "outputs": [],
   "source": [
    "def remove_outliers(data):\n",
    "    # Calculating the quartiles and IQR\n",
    "    Q1 = data.quantile(0.25)\n",
    "    Q3 = data.quantile(0.75)\n",
    "    IQR = Q3 - Q1\n",
    "    \n",
    "    # Determining the lower and upper bounds\n",
    "    lower_bound = Q1 - 1.5 * IQR\n",
    "    upper_bound = Q3 + 1.5 * IQR\n",
    "    \n",
    "    # Removing outliers\n",
    "    filtered_data = data[(data >= lower_bound) & (data <= upper_bound)]\n",
    "    \n",
    "    return filtered_data"
   ]
  },
  {
   "cell_type": "code",
   "execution_count": 30,
   "metadata": {},
   "outputs": [],
   "source": [
    "#using the function above to remove outliers \n",
    "filtered_data = remove_outliers(numerical_df)"
   ]
  },
  {
   "cell_type": "code",
   "execution_count": 31,
   "metadata": {},
   "outputs": [
    {
     "data": {
      "image/png": "[encoded data removed]",
      "text/plain": [
       "<Figure size 1440x1080 with 14 Axes>"
      ]
     },
     "metadata": {},
     "output_type": "display_data"
    }
   ],
   "source": [
    "#checking for any outliers in the dataset using box plot \n",
    "# visualizing with matplotlib and seaborn \n",
    "sns.set_style('whitegrid')\n",
    "fig,ax = plt.subplots(ncols=7,nrows =2,figsize = (20,15))\n",
    "index = 0 \n",
    "ax = ax.flatten()\n",
    "for col,value in filtered_data.items():\n",
    "    sns.boxplot(y = col,data = filtered_data,ax = ax[index])\n",
    "    index += 1\n",
    "plt.tight_layout(pad= 0.5,w_pad= 0.7,h_pad=5.0)\n",
    "\n",
    "plt.savefig(\"Images/outliers.png\")"
   ]
  },
  {
   "cell_type": "markdown",
   "metadata": {},
   "source": [
    "## Data Preparation"
   ]
  },
  {
   "cell_type": "markdown",
   "metadata": {},
   "source": [
    "### Important features"
   ]
  },
  {
   "cell_type": "markdown",
   "metadata": {},
   "source": [
    "> We will use heatmap to determine correlation which help in identfying the important features"
   ]
  },
  {
   "cell_type": "code",
   "execution_count": 65,
   "metadata": {},
   "outputs": [
    {
     "data": {
      "image/png": "[encoded data removed]",
      "text/plain": [
       "<Figure size 1440x576 with 2 Axes>"
      ]
     },
     "metadata": {},
     "output_type": "display_data"
    }
   ],
   "source": [
    "#using heatmap to check for correlation \n",
    "correlation_matrix = numerical_df.corr()\n",
    "plt.figure(figsize=(20, 8))\n",
    "sns.heatmap(correlation_matrix, annot=True, cmap='RdBu_r', fmt=\".2f\", linewidths=0.5)\n",
    "plt.title('Correlation Matrix')\n",
    "plt.show()\n"
   ]
  },
  {
   "cell_type": "markdown",
   "metadata": {},
   "source": [
    "- As seen from the heatmap there are some variables that have 1 that is perfect correlation with other variables.\n",
    "- Multicollinearity will occur if this predictor variables are highly correlated, which can lead to instability and unreliable estimates of the model parameters.\n",
    "- Hence we will remove one of the correlacetd factors which is total day minutes, total eve minutes, /total night minutes and total intl minutes"
   ]
  },
  {
   "cell_type": "code",
   "execution_count": 68,
   "metadata": {},
   "outputs": [],
   "source": [
    "#droping features with perfect correlation using our previous seriatel_df \n",
    "syriatel_1 = syriatel.drop(columns=['total day minutes', 'total eve minutes', 'total night minutes', 'total intl minutes'], axis=1)"
   ]
  },
  {
   "cell_type": "code",
   "execution_count": 69,
   "metadata": {},
   "outputs": [
    {
     "data": {
      "text/plain": [
       "(3333, 14)"
      ]
     },
     "execution_count": 69,
     "metadata": {},
     "output_type": "execute_result"
    }
   ],
   "source": [
    "#checking for the shape of the data\n",
    "syriatel_1.shape"
   ]
  },
  {
   "cell_type": "markdown",
   "metadata": {},
   "source": [
    "- The final values from here are the ones to be used for modelling since the 15 columns are suitable for analysis"
   ]
  },
  {
   "cell_type": "markdown",
   "metadata": {},
   "source": [
    "### Transforming categorical variables using OHE"
   ]
  },
  {
   "cell_type": "code",
   "execution_count": 111,
   "metadata": {},
   "outputs": [
    {
     "data": {
      "text/html": [
       "<div>\n",
       "<style scoped>\n",
       "    .dataframe tbody tr th:only-of-type {\n",
       "        vertical-align: middle;\n",
       "    }\n",
       "\n",
       "    .dataframe tbody tr th {\n",
       "        vertical-align: top;\n",
       "    }\n",
       "\n",
       "    .dataframe thead th {\n",
       "        text-align: right;\n",
       "    }\n",
       "</style>\n",
       "<table border=\"1\" class=\"dataframe\">\n",
       "  <thead>\n",
       "    <tr style=\"text-align: right;\">\n",
       "      <th></th>\n",
       "      <th>number vmail messages</th>\n",
       "      <th>total day calls</th>\n",
       "      <th>total day charge</th>\n",
       "      <th>total eve calls</th>\n",
       "      <th>total eve charge</th>\n",
       "      <th>total night calls</th>\n",
       "      <th>total night charge</th>\n",
       "      <th>total intl calls</th>\n",
       "      <th>total intl charge</th>\n",
       "      <th>customer service calls</th>\n",
       "      <th>churn</th>\n",
       "      <th>total_calls</th>\n",
       "      <th>international plan_no</th>\n",
       "      <th>international plan_yes</th>\n",
       "      <th>voice mail plan_no</th>\n",
       "      <th>voice mail plan_yes</th>\n",
       "    </tr>\n",
       "  </thead>\n",
       "  <tbody>\n",
       "    <tr>\n",
       "      <th>0</th>\n",
       "      <td>25</td>\n",
       "      <td>110</td>\n",
       "      <td>45.07</td>\n",
       "      <td>99</td>\n",
       "      <td>16.78</td>\n",
       "      <td>91</td>\n",
       "      <td>11.01</td>\n",
       "      <td>3</td>\n",
       "      <td>2.70</td>\n",
       "      <td>1</td>\n",
       "      <td>False</td>\n",
       "      <td>303</td>\n",
       "      <td>1.0</td>\n",
       "      <td>0.0</td>\n",
       "      <td>0.0</td>\n",
       "      <td>1.0</td>\n",
       "    </tr>\n",
       "    <tr>\n",
       "      <th>1</th>\n",
       "      <td>26</td>\n",
       "      <td>123</td>\n",
       "      <td>27.47</td>\n",
       "      <td>103</td>\n",
       "      <td>16.62</td>\n",
       "      <td>103</td>\n",
       "      <td>11.45</td>\n",
       "      <td>3</td>\n",
       "      <td>3.70</td>\n",
       "      <td>1</td>\n",
       "      <td>False</td>\n",
       "      <td>332</td>\n",
       "      <td>1.0</td>\n",
       "      <td>0.0</td>\n",
       "      <td>0.0</td>\n",
       "      <td>1.0</td>\n",
       "    </tr>\n",
       "    <tr>\n",
       "      <th>2</th>\n",
       "      <td>0</td>\n",
       "      <td>114</td>\n",
       "      <td>41.38</td>\n",
       "      <td>110</td>\n",
       "      <td>10.30</td>\n",
       "      <td>104</td>\n",
       "      <td>7.32</td>\n",
       "      <td>5</td>\n",
       "      <td>3.29</td>\n",
       "      <td>0</td>\n",
       "      <td>False</td>\n",
       "      <td>333</td>\n",
       "      <td>1.0</td>\n",
       "      <td>0.0</td>\n",
       "      <td>1.0</td>\n",
       "      <td>0.0</td>\n",
       "    </tr>\n",
       "    <tr>\n",
       "      <th>3</th>\n",
       "      <td>0</td>\n",
       "      <td>71</td>\n",
       "      <td>50.90</td>\n",
       "      <td>88</td>\n",
       "      <td>5.26</td>\n",
       "      <td>89</td>\n",
       "      <td>8.86</td>\n",
       "      <td>7</td>\n",
       "      <td>1.78</td>\n",
       "      <td>2</td>\n",
       "      <td>False</td>\n",
       "      <td>255</td>\n",
       "      <td>0.0</td>\n",
       "      <td>1.0</td>\n",
       "      <td>1.0</td>\n",
       "      <td>0.0</td>\n",
       "    </tr>\n",
       "    <tr>\n",
       "      <th>4</th>\n",
       "      <td>0</td>\n",
       "      <td>113</td>\n",
       "      <td>28.34</td>\n",
       "      <td>122</td>\n",
       "      <td>12.61</td>\n",
       "      <td>121</td>\n",
       "      <td>8.41</td>\n",
       "      <td>3</td>\n",
       "      <td>2.73</td>\n",
       "      <td>3</td>\n",
       "      <td>False</td>\n",
       "      <td>359</td>\n",
       "      <td>0.0</td>\n",
       "      <td>1.0</td>\n",
       "      <td>1.0</td>\n",
       "      <td>0.0</td>\n",
       "    </tr>\n",
       "    <tr>\n",
       "      <th>...</th>\n",
       "      <td>...</td>\n",
       "      <td>...</td>\n",
       "      <td>...</td>\n",
       "      <td>...</td>\n",
       "      <td>...</td>\n",
       "      <td>...</td>\n",
       "      <td>...</td>\n",
       "      <td>...</td>\n",
       "      <td>...</td>\n",
       "      <td>...</td>\n",
       "      <td>...</td>\n",
       "      <td>...</td>\n",
       "      <td>...</td>\n",
       "      <td>...</td>\n",
       "      <td>...</td>\n",
       "      <td>...</td>\n",
       "    </tr>\n",
       "    <tr>\n",
       "      <th>3328</th>\n",
       "      <td>36</td>\n",
       "      <td>77</td>\n",
       "      <td>26.55</td>\n",
       "      <td>126</td>\n",
       "      <td>18.32</td>\n",
       "      <td>83</td>\n",
       "      <td>12.56</td>\n",
       "      <td>6</td>\n",
       "      <td>2.67</td>\n",
       "      <td>2</td>\n",
       "      <td>False</td>\n",
       "      <td>292</td>\n",
       "      <td>1.0</td>\n",
       "      <td>0.0</td>\n",
       "      <td>0.0</td>\n",
       "      <td>1.0</td>\n",
       "    </tr>\n",
       "    <tr>\n",
       "      <th>3329</th>\n",
       "      <td>0</td>\n",
       "      <td>57</td>\n",
       "      <td>39.29</td>\n",
       "      <td>55</td>\n",
       "      <td>13.04</td>\n",
       "      <td>123</td>\n",
       "      <td>8.61</td>\n",
       "      <td>4</td>\n",
       "      <td>2.59</td>\n",
       "      <td>3</td>\n",
       "      <td>False</td>\n",
       "      <td>239</td>\n",
       "      <td>1.0</td>\n",
       "      <td>0.0</td>\n",
       "      <td>1.0</td>\n",
       "      <td>0.0</td>\n",
       "    </tr>\n",
       "    <tr>\n",
       "      <th>3330</th>\n",
       "      <td>0</td>\n",
       "      <td>109</td>\n",
       "      <td>30.74</td>\n",
       "      <td>58</td>\n",
       "      <td>24.55</td>\n",
       "      <td>91</td>\n",
       "      <td>8.64</td>\n",
       "      <td>6</td>\n",
       "      <td>3.81</td>\n",
       "      <td>2</td>\n",
       "      <td>False</td>\n",
       "      <td>264</td>\n",
       "      <td>1.0</td>\n",
       "      <td>0.0</td>\n",
       "      <td>1.0</td>\n",
       "      <td>0.0</td>\n",
       "    </tr>\n",
       "    <tr>\n",
       "      <th>3331</th>\n",
       "      <td>0</td>\n",
       "      <td>105</td>\n",
       "      <td>36.35</td>\n",
       "      <td>84</td>\n",
       "      <td>13.57</td>\n",
       "      <td>137</td>\n",
       "      <td>6.26</td>\n",
       "      <td>10</td>\n",
       "      <td>1.35</td>\n",
       "      <td>2</td>\n",
       "      <td>False</td>\n",
       "      <td>336</td>\n",
       "      <td>0.0</td>\n",
       "      <td>1.0</td>\n",
       "      <td>1.0</td>\n",
       "      <td>0.0</td>\n",
       "    </tr>\n",
       "    <tr>\n",
       "      <th>3332</th>\n",
       "      <td>25</td>\n",
       "      <td>113</td>\n",
       "      <td>39.85</td>\n",
       "      <td>82</td>\n",
       "      <td>22.60</td>\n",
       "      <td>77</td>\n",
       "      <td>10.86</td>\n",
       "      <td>4</td>\n",
       "      <td>3.70</td>\n",
       "      <td>0</td>\n",
       "      <td>False</td>\n",
       "      <td>276</td>\n",
       "      <td>1.0</td>\n",
       "      <td>0.0</td>\n",
       "      <td>0.0</td>\n",
       "      <td>1.0</td>\n",
       "    </tr>\n",
       "  </tbody>\n",
       "</table>\n",
       "<p>3333 rows × 16 columns</p>\n",
       "</div>"
      ],
      "text/plain": [
       "      number vmail messages  total day calls  total day charge  \\\n",
       "0                        25              110             45.07   \n",
       "1                        26              123             27.47   \n",
       "2                         0              114             41.38   \n",
       "3                         0               71             50.90   \n",
       "4                         0              113             28.34   \n",
       "...                     ...              ...               ...   \n",
       "3328                     36               77             26.55   \n",
       "3329                      0               57             39.29   \n",
       "3330                      0              109             30.74   \n",
       "3331                      0              105             36.35   \n",
       "3332                     25              113             39.85   \n",
       "\n",
       "      total eve calls  total eve charge  total night calls  \\\n",
       "0                  99             16.78                 91   \n",
       "1                 103             16.62                103   \n",
       "2                 110             10.30                104   \n",
       "3                  88              5.26                 89   \n",
       "4                 122             12.61                121   \n",
       "...               ...               ...                ...   \n",
       "3328              126             18.32                 83   \n",
       "3329               55             13.04                123   \n",
       "3330               58             24.55                 91   \n",
       "3331               84             13.57                137   \n",
       "3332               82             22.60                 77   \n",
       "\n",
       "      total night charge  total intl calls  total intl charge  \\\n",
       "0                  11.01                 3               2.70   \n",
       "1                  11.45                 3               3.70   \n",
       "2                   7.32                 5               3.29   \n",
       "3                   8.86                 7               1.78   \n",
       "4                   8.41                 3               2.73   \n",
       "...                  ...               ...                ...   \n",
       "3328               12.56                 6               2.67   \n",
       "3329                8.61                 4               2.59   \n",
       "3330                8.64                 6               3.81   \n",
       "3331                6.26                10               1.35   \n",
       "3332               10.86                 4               3.70   \n",
       "\n",
       "      customer service calls  churn  total_calls  international plan_no  \\\n",
       "0                          1  False          303                    1.0   \n",
       "1                          1  False          332                    1.0   \n",
       "2                          0  False          333                    1.0   \n",
       "3                          2  False          255                    0.0   \n",
       "4                          3  False          359                    0.0   \n",
       "...                      ...    ...          ...                    ...   \n",
       "3328                       2  False          292                    1.0   \n",
       "3329                       3  False          239                    1.0   \n",
       "3330                       2  False          264                    1.0   \n",
       "3331                       2  False          336                    0.0   \n",
       "3332                       0  False          276                    1.0   \n",
       "\n",
       "      international plan_yes  voice mail plan_no  voice mail plan_yes  \n",
       "0                        0.0                 0.0                  1.0  \n",
       "1                        0.0                 0.0                  1.0  \n",
       "2                        0.0                 1.0                  0.0  \n",
       "3                        1.0                 1.0                  0.0  \n",
       "4                        1.0                 1.0                  0.0  \n",
       "...                      ...                 ...                  ...  \n",
       "3328                     0.0                 0.0                  1.0  \n",
       "3329                     0.0                 1.0                  0.0  \n",
       "3330                     0.0                 1.0                  0.0  \n",
       "3331                     1.0                 1.0                  0.0  \n",
       "3332                     0.0                 0.0                  1.0  \n",
       "\n",
       "[3333 rows x 16 columns]"
      ]
     },
     "execution_count": 111,
     "metadata": {},
     "output_type": "execute_result"
    }
   ],
   "source": [
    "#transformimg categorical data using OHE\n",
    "\n",
    "# Select the categorical columns to be one-hot encoded\n",
    "categorical_df = ['international plan', 'voice mail plan']\n",
    "\n",
    "# Create an instance of the OneHotEncoder\n",
    "encoder = OneHotEncoder()\n",
    "\n",
    "# Fit and transform the categorical columns\n",
    "encoded_data = encoder.fit_transform(syriatel_1[categorical_df])\n",
    "\n",
    "# Convert the encoded data to a DataFrame\n",
    "encoded_df = pd.DataFrame(encoded_data.toarray(), columns=encoder.get_feature_names(categorical_df))\n",
    "\n",
    "# Concatenate the encoded DataFrame with the remaining columns from the original DataFrame\n",
    "syriatel_data = pd.concat([syriatel_1.drop(categorical_df, axis=1), encoded_df], axis=1)\n",
    "\n",
    "syriatel_data"
   ]
  },
  {
   "cell_type": "code",
   "execution_count": 112,
   "metadata": {},
   "outputs": [
    {
     "data": {
      "text/plain": [
       "0    2850\n",
       "1     483\n",
       "Name: churn, dtype: int64"
      ]
     },
     "execution_count": 112,
     "metadata": {},
     "output_type": "execute_result"
    }
   ],
   "source": [
    "#convert churn using label ecoder using a function\n",
    "def encode(column):\n",
    "    le = LabelEncoder()\n",
    "    syriatel_data[column] = le.fit_transform(syriatel_data[column])\n",
    "#encoding the column \n",
    "encode('churn')\n",
    "#checking for encorded churn column\n",
    "syriatel_data.churn.value_counts()"
   ]
  },
  {
   "cell_type": "markdown",
   "metadata": {},
   "source": [
    "## Train-Test Splitting"
   ]
  },
  {
   "cell_type": "markdown",
   "metadata": {},
   "source": [
    "> This will be used to test the data and used to evaluate the performance of the trained model on unseen data. By evaluating the model on the test set, we can get an estimate of how well the model generalizes to new, unseen data."
   ]
  },
  {
   "cell_type": "code",
   "execution_count": 113,
   "metadata": {},
   "outputs": [],
   "source": [
    "# Split the data into features (X) and target variable (y)\n",
    "X = syriatel_data.drop(columns='churn', axis=1)\n",
    "y = syriatel_data['churn']\n",
    "\n",
    "# Perform train-test split\n",
    "X_train, X_test, y_train, y_test = train_test_split(X, y, test_size=0.2, random_state=42)"
   ]
  },
  {
   "cell_type": "markdown",
   "metadata": {},
   "source": [
    "## Data preprocessing"
   ]
  },
  {
   "cell_type": "markdown",
   "metadata": {},
   "source": [
    "### Standardization"
   ]
  },
  {
   "cell_type": "markdown",
   "metadata": {},
   "source": [
    "- We will employ standardization to rescale the features of a SyriaTel dataset so that they have a mean of zero and a variance of one. \n",
    "- This process helps to normalize the features to a similar scale, which can be advantageous for machine learning algorithms that are sensitive to the scale of input features."
   ]
  },
  {
   "cell_type": "code",
   "execution_count": 114,
   "metadata": {},
   "outputs": [],
   "source": [
    "# Create an instance of StandardScaler\n",
    "scaler = StandardScaler()\n",
    "\n",
    "# Fit the scaler on the training data\n",
    "scaler.fit(X_train)\n",
    "\n",
    "# Transform the training and test data\n",
    "X_train_scaled = scaler.fit_transform(X_train)\n",
    "X_test_scaled = scaler.transform(X_test)"
   ]
  },
  {
   "cell_type": "markdown",
   "metadata": {},
   "source": [
    "> Use **SMOTE** to solve for class imbalance"
   ]
  },
  {
   "cell_type": "code",
   "execution_count": 115,
   "metadata": {},
   "outputs": [],
   "source": [
    "# Initialize SMOTE\n",
    "smote = SMOTE(random_state=42)\n",
    "# Apply SMOTE only to the training data\n",
    "X_train_smote, y_train_smote = smote.fit_resample(X_train, y_train)\n",
    "\n"
   ]
  },
  {
   "cell_type": "markdown",
   "metadata": {},
   "source": [
    "## Baseline Logistic Regression Model"
   ]
  },
  {
   "cell_type": "code",
   "execution_count": 117,
   "metadata": {},
   "outputs": [
    {
     "data": {
      "text/plain": [
       "array([[-3.96581418e-03, -4.78234646e+00,  6.38290266e-02,\n",
       "        -4.77944866e+00,  5.44269267e-02, -4.78333670e+00,\n",
       "         6.81661753e-02, -4.91563971e+00,  2.83907631e-01,\n",
       "         4.47070818e-01,  4.78052831e+00, -2.35939048e+00,\n",
       "        -2.20934610e-01, -8.84012263e-01, -1.69631283e+00]])"
      ]
     },
     "execution_count": 117,
     "metadata": {},
     "output_type": "execute_result"
    }
   ],
   "source": [
    "# Create an instance of Logistic Regression\n",
    "logreg = LogisticRegression(solver='liblinear', random_state=42)\n",
    "model_log = logreg.fit(X_train_smote,y_train_smote)\n",
    "model_log\n",
    "model_log.coef_"
   ]
  },
  {
   "cell_type": "code",
   "execution_count": 119,
   "metadata": {},
   "outputs": [],
   "source": [
    "# Predict on the training and testing data\n",
    "y_train_pred = logreg.predict(X_train_smote)\n",
    "y_test_pred_1 = logreg.predict(X_test)\n",
    "\n",
    "# Calculate accuracy on the training and testing data\n",
    "train_accuracy = accuracy_score(y_train_smote, y_train_pred)\n",
    "test_accuracy = accuracy_score(y_test, y_test_pred_1)"
   ]
  },
  {
   "cell_type": "code",
   "execution_count": 121,
   "metadata": {},
   "outputs": [],
   "source": [
    "#creating a function for checking for metrics \n",
    "def evaluate_model_metrics(model, X_train, y_train, X_test, y_test):\n",
    "    # Train the model\n",
    "    model.fit(X_train, y_train)\n",
    "\n",
    "    # Predict on the training and testing data\n",
    "    y_train_pred = model.predict(X_train)\n",
    "    y_test_pred = model.predict(X_test)\n",
    "\n",
    "    # Calculate evaluation metrics\n",
    "    roc_auc_train = roc_auc_score(y_train, y_train_pred)\n",
    "    roc_auc_test = roc_auc_score(y_test, y_test_pred)\n",
    "    cm_test = confusion_matrix(y_test, y_test_pred)\n",
    "    cm_display_train = ConfusionMatrixDisplay(confusion_matrix=cm_test).plot()\n",
    "    accuracy_train = accuracy_score(y_train, y_train_pred)\n",
    "    accuracy_test = accuracy_score(y_test, y_test_pred)\n",
    "\n",
    "    # Return results\n",
    "    results = {\n",
    "        'roc_auc_train': roc_auc_train,\n",
    "        'roc_auc_test': roc_auc_test,\n",
    "        'accuracy_train': accuracy_train,\n",
    "        'accuracy_test': accuracy_test,\n",
    "        'confusion_matrix_train': cm_display_train\n",
    "    }\n",
    "    return results\n"
   ]
  },
  {
   "cell_type": "code",
   "execution_count": 122,
   "metadata": {},
   "outputs": [],
   "source": [
    "#creating a function for checking for classification report\n",
    "def generate_classification_report(y_true, y_pred):\n",
    "    # Generate classification report with output_dict=True\n",
    "    report_dict = classification_report(y_true, y_pred, output_dict=True)\n",
    "    \n",
    "    # Convert the report to a DataFrame\n",
    "    report = pd.DataFrame(report_dict).transpose()\n",
    "    \n",
    "    return report"
   ]
  },
  {
   "cell_type": "code",
   "execution_count": 123,
   "metadata": {},
   "outputs": [
    {
     "data": {
      "text/html": [
       "<div>\n",
       "<style scoped>\n",
       "    .dataframe tbody tr th:only-of-type {\n",
       "        vertical-align: middle;\n",
       "    }\n",
       "\n",
       "    .dataframe tbody tr th {\n",
       "        vertical-align: top;\n",
       "    }\n",
       "\n",
       "    .dataframe thead th {\n",
       "        text-align: right;\n",
       "    }\n",
       "</style>\n",
       "<table border=\"1\" class=\"dataframe\">\n",
       "  <thead>\n",
       "    <tr style=\"text-align: right;\">\n",
       "      <th></th>\n",
       "      <th>precision</th>\n",
       "      <th>recall</th>\n",
       "      <th>f1-score</th>\n",
       "      <th>support</th>\n",
       "    </tr>\n",
       "  </thead>\n",
       "  <tbody>\n",
       "    <tr>\n",
       "      <th>0</th>\n",
       "      <td>0.880837</td>\n",
       "      <td>0.966431</td>\n",
       "      <td>0.921651</td>\n",
       "      <td>566.00000</td>\n",
       "    </tr>\n",
       "    <tr>\n",
       "      <th>1</th>\n",
       "      <td>0.586957</td>\n",
       "      <td>0.267327</td>\n",
       "      <td>0.367347</td>\n",
       "      <td>101.00000</td>\n",
       "    </tr>\n",
       "    <tr>\n",
       "      <th>accuracy</th>\n",
       "      <td>0.860570</td>\n",
       "      <td>0.860570</td>\n",
       "      <td>0.860570</td>\n",
       "      <td>0.86057</td>\n",
       "    </tr>\n",
       "    <tr>\n",
       "      <th>macro avg</th>\n",
       "      <td>0.733897</td>\n",
       "      <td>0.616879</td>\n",
       "      <td>0.644499</td>\n",
       "      <td>667.00000</td>\n",
       "    </tr>\n",
       "    <tr>\n",
       "      <th>weighted avg</th>\n",
       "      <td>0.836337</td>\n",
       "      <td>0.860570</td>\n",
       "      <td>0.837716</td>\n",
       "      <td>667.00000</td>\n",
       "    </tr>\n",
       "  </tbody>\n",
       "</table>\n",
       "</div>"
      ],
      "text/plain": [
       "              precision    recall  f1-score    support\n",
       "0              0.880837  0.966431  0.921651  566.00000\n",
       "1              0.586957  0.267327  0.367347  101.00000\n",
       "accuracy       0.860570  0.860570  0.860570    0.86057\n",
       "macro avg      0.733897  0.616879  0.644499  667.00000\n",
       "weighted avg   0.836337  0.860570  0.837716  667.00000"
      ]
     },
     "execution_count": 123,
     "metadata": {},
     "output_type": "execute_result"
    }
   ],
   "source": [
    "# calling the function to get classifification report values\n",
    "logreg_report = generate_classification_report(y_test, y_test_pred_1)\n",
    "logreg_report"
   ]
  },
  {
   "cell_type": "markdown",
   "metadata": {},
   "source": [
    "- Precision: The precision values for class 0 and class 1 are 0.88 and 0.587, respectively. Higher precision signifies a lower rate of false positives for that class. With a higher precision in class 0, the model demonstrates better performance in predicting class 0 than class 1.\n",
    "\n",
    "- Recall: The recall values for class 0 and class 1 are 0.966 and 0.267, respectively. Recall measures the model's ability to correctly identify positive instances. Like precision, recall is higher for class 0, indicating better performance in identifying class 0 instances compared to class 1.\n",
    "\n",
    "- F1-Score: The F1-scores for class 0 and class 1 are 0.92 and 0.367, respectively. The F1-score is the harmonic mean of precision and recall, balancing both metrics. Once again, class 0 has a higher F1-score than class 1.\n",
    "\n",
    "- Accuracy: The model's accuracy is 0.861, meaning that 86.1% of the predictions were correct out of all instances.\n",
    "\n",
    ">Therefore, logistic regression achieves 86.1% prediction accuracy on the test data.\n",
    "\n",
    ">Based on these metrics, it is evident that the model performs better for class 0 compared to class 1."
   ]
  },
  {
   "cell_type": "code",
   "execution_count": 125,
   "metadata": {},
   "outputs": [
    {
     "data": {
      "text/plain": [
       "{'roc_auc_train': 0.8938266199649737,\n",
       " 'roc_auc_test': 0.6168789140398139,\n",
       " 'accuracy_train': 0.8938266199649737,\n",
       " 'accuracy_test': 0.8605697151424287,\n",
       " 'confusion_matrix_train': <sklearn.metrics._plot.confusion_matrix.ConfusionMatrixDisplay at 0x123cc42be20>}"
      ]
     },
     "execution_count": 125,
     "metadata": {},
     "output_type": "execute_result"
    },
    {
     "data": {
      "image/png": "[encoded data removed]",
      "text/plain": [
       "<Figure size 432x288 with 2 Axes>"
      ]
     },
     "metadata": {},
     "output_type": "display_data"
    }
   ],
   "source": [
    "#checking the metric of baseline model and draw confusion matrix using above function \n",
    "evaluate_model_metrics(logreg, X_train_smote,y_train_smote, X_test, y_test)"
   ]
  },
  {
   "cell_type": "markdown",
   "metadata": {},
   "source": [
    "### Model Performance Summary\n",
    "\n",
    "The logistic regression model demonstrates the following performance metrics:\n",
    "\n",
    "- **ROC AUC**: \n",
    "  - Training: 0.8938 \n",
    "  - Test: 0.6169\n",
    "\n",
    "- **Confusion Matrix**:\n",
    "  - True Positives (TP): 27\n",
    "  - False Negatives (FN): 74\n",
    "  - True Negatives (TN): 547\n",
    "  - False Positives (FP): 10\n",
    "\n",
    "- **Accuracy**:\n",
    "  - Training: 89.4%\n",
    "  - Testing: 86.0%\n",
    "\n",
    "**Observations**:\n",
    "- The model shows a high level of discrimination on the training data but significantly lower on the test data, suggesting potential overfitting.\n",
    "- The confusion matrix indicates a considerable number of false negatives, highlighting the need for model improvement."
   ]
  },
  {
   "cell_type": "markdown",
   "metadata": {},
   "source": [
    "### Cross-Validation"
   ]
  },
  {
   "cell_type": "code",
   "execution_count": 127,
   "metadata": {},
   "outputs": [],
   "source": [
    "# Create an instance of Logistic Regression with cross-validation\n",
    "logreg_final = LogisticRegressionCV(Cs=10, cv=5, solver='liblinear')\n",
    "\n",
    "# Fit the model on the resampled training data\n",
    "logreg_final.fit(X_train_smote, y_train_smote)\n",
    "\n",
    "# Predict on the resampled training and testing data\n",
    "y_train_pred = logreg.predict(X_train_smote)\n",
    "y_test_pred = logreg.predict(X_test)\n",
    "\n",
    "# Calculate accuracy on the resampled training and testing data\n",
    "train_accuracy = accuracy_score(y_train_smote, y_train_pred)\n",
    "test_accuracy = accuracy_score(y_test, y_test_pred)"
   ]
  },
  {
   "cell_type": "code",
   "execution_count": 128,
   "metadata": {},
   "outputs": [
    {
     "data": {
      "text/plain": [
       "{'roc_auc_train': 0.8922942206654991,\n",
       " 'roc_auc_test': 0.6177623062659623,\n",
       " 'accuracy_train': 0.8922942206654991,\n",
       " 'accuracy_test': 0.8620689655172413,\n",
       " 'confusion_matrix_train': <sklearn.metrics._plot.confusion_matrix.ConfusionMatrixDisplay at 0x123ccac9e80>}"
      ]
     },
     "execution_count": 128,
     "metadata": {},
     "output_type": "execute_result"
    },
    {
     "data": {
      "image/png": "[encoded data removed]",
      "text/plain": [
       "<Figure size 432x288 with 2 Axes>"
      ]
     },
     "metadata": {},
     "output_type": "display_data"
    }
   ],
   "source": [
    "evaluate_model_metrics(logreg_final,X_train_smote,y_train_smote,X_test,y_test)"
   ]
  },
  {
   "cell_type": "markdown",
   "metadata": {},
   "source": [
    "- After applying cross-validation with five folds, we obtained an improved model with an average accuracy of 0.8621, representing an 86.2% accuracy level in predicting customer churn on the test data. The training data accuracy also adjusted to 0.8621.\n",
    "\n",
    "- This adjusted model shows no significant change in performance, accurately predicting the class labels for most instances in both training and testing datasets. The testing accuracy is slightly lower than the training accuracy, which is expected but not significantly different.\n",
    "\n",
    "- Therefore, we can proceed to evaluate the second model to determine if it performs better in predicting customer churn compared to logistic regression."
   ]
  },
  {
   "cell_type": "markdown",
   "metadata": {},
   "source": [
    "## Decison Trees classifier model"
   ]
  },
  {
   "cell_type": "code",
   "execution_count": 129,
   "metadata": {},
   "outputs": [],
   "source": [
    "# Create an instance of DecisionTreeClassifier with regularization parameters\n",
    "dt_clf = DecisionTreeClassifier(max_depth=5, min_samples_split=5)\n",
    "\n",
    "# Fit the model on the training data\n",
    "dt_clf.fit(X_train_smote, y_train_smote)\n",
    "\n",
    "# Predict on the training and testing data\n",
    "y_train_pred_2= dt_clf.predict(X_train_smote)\n",
    "y_test_pred_2 = dt_clf.predict(X_test)\n",
    "\n",
    "# Calculate accuracy on the training and testing data\n",
    "train_accuracy = accuracy_score(y_train_smote, y_train_pred)\n",
    "test_accuracy = accuracy_score(y_test, y_test_pred_2)"
   ]
  },
  {
   "cell_type": "code",
   "execution_count": 130,
   "metadata": {},
   "outputs": [
    {
     "data": {
      "text/plain": [
       "{'roc_auc_train': 0.8857267950963224,\n",
       " 'roc_auc_test': 0.8704212294020922,\n",
       " 'accuracy_train': 0.8857267950963222,\n",
       " 'accuracy_test': 0.9250374812593704,\n",
       " 'confusion_matrix_train': <sklearn.metrics._plot.confusion_matrix.ConfusionMatrixDisplay at 0x123cd32fbe0>}"
      ]
     },
     "execution_count": 130,
     "metadata": {},
     "output_type": "execute_result"
    },
    {
     "data": {
      "image/png": "[encoded data removed]",
      "text/plain": [
       "<Figure size 432x288 with 2 Axes>"
      ]
     },
     "metadata": {},
     "output_type": "display_data"
    }
   ],
   "source": [
    "#checking for decison tree metrics using the predefiend function \n",
    "evaluate_model_metrics(dt_clf, X_train_smote, y_train_smote, X_test, y_test)"
   ]
  },
  {
   "cell_type": "markdown",
   "metadata": {},
   "source": [
    "### Classification Report Summary\n",
    "\n",
    "The logistic regression model exhibits the following performance metrics:\n",
    "\n",
    "- **Precision**:\n",
    "  - Class 0: 96.2%\n",
    "  - Class 1: 73.3%\n",
    "\n",
    "- **Recall**:\n",
    "  - Class 0: 94.9%\n",
    "  - Class 1: 79%\n",
    "\n",
    "- **F1-score**:\n",
    "  - Class 0: 95.6%\n",
    "  - Class 1: 76.2%\n",
    "\n",
    "- **Accuracy**:\n",
    "  - Overall: 97.5%\n",
    "\n",
    "- **Macro Average**:\n",
    "  - Precision: 84.8%\n",
    "  - Recall: 87.0%\n",
    "  - F1-score: 85.9%\n",
    "\n",
    "- **Weighted Average**:\n",
    "  - Precision: 92.8%\n",
    "  - Recall: 92.5%\n",
    "  - F1-score: 92.6%\n",
    "\n",
    "**Observations**:\n",
    "- High precision and recall for class 0, indicating strong performance in identifying true negatives.\n",
    "- Reasonable precision and recall for class 1, though with room for improvement in identifying true positives.\n",
    "- Overall accuracy of 97.5%, suggesting robust performance across all instances.\n",
    "- Balanced macro and weighted averages, indicating consistent performance across both classes.\n",
    "\n",
    "> To gain further insights, we will examine the classification report for all metrics related to the Decision Tree classifier."
   ]
  },
  {
   "cell_type": "code",
   "execution_count": 131,
   "metadata": {},
   "outputs": [
    {
     "data": {
      "text/html": [
       "<div>\n",
       "<style scoped>\n",
       "    .dataframe tbody tr th:only-of-type {\n",
       "        vertical-align: middle;\n",
       "    }\n",
       "\n",
       "    .dataframe tbody tr th {\n",
       "        vertical-align: top;\n",
       "    }\n",
       "\n",
       "    .dataframe thead th {\n",
       "        text-align: right;\n",
       "    }\n",
       "</style>\n",
       "<table border=\"1\" class=\"dataframe\">\n",
       "  <thead>\n",
       "    <tr style=\"text-align: right;\">\n",
       "      <th></th>\n",
       "      <th>precision</th>\n",
       "      <th>recall</th>\n",
       "      <th>f1-score</th>\n",
       "      <th>support</th>\n",
       "    </tr>\n",
       "  </thead>\n",
       "  <tbody>\n",
       "    <tr>\n",
       "      <th>0</th>\n",
       "      <td>0.962366</td>\n",
       "      <td>0.948763</td>\n",
       "      <td>0.955516</td>\n",
       "      <td>566.000000</td>\n",
       "    </tr>\n",
       "    <tr>\n",
       "      <th>1</th>\n",
       "      <td>0.733945</td>\n",
       "      <td>0.792079</td>\n",
       "      <td>0.761905</td>\n",
       "      <td>101.000000</td>\n",
       "    </tr>\n",
       "    <tr>\n",
       "      <th>accuracy</th>\n",
       "      <td>0.925037</td>\n",
       "      <td>0.925037</td>\n",
       "      <td>0.925037</td>\n",
       "      <td>0.925037</td>\n",
       "    </tr>\n",
       "    <tr>\n",
       "      <th>macro avg</th>\n",
       "      <td>0.848155</td>\n",
       "      <td>0.870421</td>\n",
       "      <td>0.858710</td>\n",
       "      <td>667.000000</td>\n",
       "    </tr>\n",
       "    <tr>\n",
       "      <th>weighted avg</th>\n",
       "      <td>0.927777</td>\n",
       "      <td>0.925037</td>\n",
       "      <td>0.926199</td>\n",
       "      <td>667.000000</td>\n",
       "    </tr>\n",
       "  </tbody>\n",
       "</table>\n",
       "</div>"
      ],
      "text/plain": [
       "              precision    recall  f1-score     support\n",
       "0              0.962366  0.948763  0.955516  566.000000\n",
       "1              0.733945  0.792079  0.761905  101.000000\n",
       "accuracy       0.925037  0.925037  0.925037    0.925037\n",
       "macro avg      0.848155  0.870421  0.858710  667.000000\n",
       "weighted avg   0.927777  0.925037  0.926199  667.000000"
      ]
     },
     "execution_count": 131,
     "metadata": {},
     "output_type": "execute_result"
    }
   ],
   "source": [
    "#using predefined function to check for classification report\n",
    "dt_clf_report = generate_classification_report(y_test, y_test_pred_2)\n",
    "dt_clf_report"
   ]
  },
  {
   "cell_type": "markdown",
   "metadata": {},
   "source": [
    "- Precision: In class 0, the precision is 0.962, indicating that 96.2% of the instances predicted as class 0 are actually true negatives. In class 1, the precision is 0.733, meaning that 73.3% of the instances predicted as class 1 are true positives.\n",
    "\n",
    "- Recall: In class 0, the recall is 0.949, indicating that 94.9% of the actual class 0 instances are correctly identified as true negatives. In class 1, the recall is 0.79, meaning that 79% of the actual class 1 instances are correctly identified as true positives.\n",
    "\n",
    "- F1-score: In class 0, the F1-score is 0.956, indicating a good balance between precision and recall for class 0. In class 1, the F1-score is 0.762, suggesting a slightly lower balance between precision and recall for class 1.\n",
    "\n",
    "- Accuracy: Accuracy is the overall proportion of correctly classified instances. In this case, the accuracy is 0.975, meaning that the model correctly predicts the class labels for 92.5% of the instances.\n",
    "\n",
    "- Macro avg: Macro average calculates the average metrics (precision, recall, F1-score) for both classes, giving equal weight to each class which are 0.848155, 0.870421 and 0.858710 while Weighted avg calculates the average metrics, taking into account the support (number of instances) for each class. It provides a weighted average based on the number of instances in each class which are 0.927777, 0.925037 and 0.926199."
   ]
  },
  {
   "cell_type": "markdown",
   "metadata": {},
   "source": [
    "### Random forest model"
   ]
  },
  {
   "cell_type": "code",
   "execution_count": 132,
   "metadata": {},
   "outputs": [],
   "source": [
    "# Create a random forest classifier with regularization parameters\n",
    "rf_classifier = RandomForestClassifier(n_estimators=100, max_depth=5, min_samples_split=5, max_features='sqrt', random_state=42)\n",
    "\n",
    "# Fit the model on the selected training data\n",
    "rf_classifier.fit(X_train_smote, y_train_smote)\n",
    "\n",
    "# Predict on the training and testing sets\n",
    "y_train_pred_3 = rf_classifier.predict(X_train_smote)\n",
    "y_test_pred_3 = rf_classifier.predict(X_test)\n",
    "\n",
    "# Calculate training and testing accuracy\n",
    "train_accuracy = accuracy_score(y_train_smote, y_train_pred)\n",
    "test_accuracy = accuracy_score(y_test, y_test_pred_3)"
   ]
  },
  {
   "cell_type": "code",
   "execution_count": 134,
   "metadata": {},
   "outputs": [
    {
     "data": {
      "text/plain": [
       "{'roc_auc_train': 0.8712784588441331,\n",
       " 'roc_auc_test': 0.8191669873701151,\n",
       " 'accuracy_train': 0.8712784588441331,\n",
       " 'accuracy_test': 0.8725637181409296,\n",
       " 'confusion_matrix_train': <sklearn.metrics._plot.confusion_matrix.ConfusionMatrixDisplay at 0x123cd0eea00>}"
      ]
     },
     "execution_count": 134,
     "metadata": {},
     "output_type": "execute_result"
    },
    {
     "data": {
      "image/png": "[encoded data removed]",
      "text/plain": [
       "<Figure size 432x288 with 2 Axes>"
      ]
     },
     "metadata": {},
     "output_type": "display_data"
    }
   ],
   "source": [
    "#checking for random forest metrics using the predefiend function \n",
    "evaluate_model_metrics(rf_classifier, X_train_smote, y_train_smote, X_test, y_test)"
   ]
  },
  {
   "cell_type": "markdown",
   "metadata": {},
   "source": [
    "- The Random Forest classifier achieves an accuracy of approximately 87.1% on the training data and 87.2% on the testing data. -- It performs well in distinguishing between positive and negative classes, with an area under the ROC curve (AUC) of 0.87 for the training data and 0.82 for the testing data. Overall, the model demonstrates a high level of accuracy in predicting the target variable.\n",
    "\n",
    "- According to the confusion matrix, there are 75 true positives, 507 true negatives, 50 false positives, and 26 false negatives. This accuracy is slightly lower compared to the Decision Tree classifier."
   ]
  },
  {
   "cell_type": "code",
   "execution_count": 135,
   "metadata": {},
   "outputs": [
    {
     "data": {
      "text/html": [
       "<div>\n",
       "<style scoped>\n",
       "    .dataframe tbody tr th:only-of-type {\n",
       "        vertical-align: middle;\n",
       "    }\n",
       "\n",
       "    .dataframe tbody tr th {\n",
       "        vertical-align: top;\n",
       "    }\n",
       "\n",
       "    .dataframe thead th {\n",
       "        text-align: right;\n",
       "    }\n",
       "</style>\n",
       "<table border=\"1\" class=\"dataframe\">\n",
       "  <thead>\n",
       "    <tr style=\"text-align: right;\">\n",
       "      <th></th>\n",
       "      <th>precision</th>\n",
       "      <th>recall</th>\n",
       "      <th>f1-score</th>\n",
       "      <th>support</th>\n",
       "    </tr>\n",
       "  </thead>\n",
       "  <tbody>\n",
       "    <tr>\n",
       "      <th>0</th>\n",
       "      <td>0.951220</td>\n",
       "      <td>0.895760</td>\n",
       "      <td>0.922657</td>\n",
       "      <td>566.000000</td>\n",
       "    </tr>\n",
       "    <tr>\n",
       "      <th>1</th>\n",
       "      <td>0.559701</td>\n",
       "      <td>0.742574</td>\n",
       "      <td>0.638298</td>\n",
       "      <td>101.000000</td>\n",
       "    </tr>\n",
       "    <tr>\n",
       "      <th>accuracy</th>\n",
       "      <td>0.872564</td>\n",
       "      <td>0.872564</td>\n",
       "      <td>0.872564</td>\n",
       "      <td>0.872564</td>\n",
       "    </tr>\n",
       "    <tr>\n",
       "      <th>macro avg</th>\n",
       "      <td>0.755461</td>\n",
       "      <td>0.819167</td>\n",
       "      <td>0.780477</td>\n",
       "      <td>667.000000</td>\n",
       "    </tr>\n",
       "    <tr>\n",
       "      <th>weighted avg</th>\n",
       "      <td>0.891934</td>\n",
       "      <td>0.872564</td>\n",
       "      <td>0.879598</td>\n",
       "      <td>667.000000</td>\n",
       "    </tr>\n",
       "  </tbody>\n",
       "</table>\n",
       "</div>"
      ],
      "text/plain": [
       "              precision    recall  f1-score     support\n",
       "0              0.951220  0.895760  0.922657  566.000000\n",
       "1              0.559701  0.742574  0.638298  101.000000\n",
       "accuracy       0.872564  0.872564  0.872564    0.872564\n",
       "macro avg      0.755461  0.819167  0.780477  667.000000\n",
       "weighted avg   0.891934  0.872564  0.879598  667.000000"
      ]
     },
     "execution_count": 135,
     "metadata": {},
     "output_type": "execute_result"
    }
   ],
   "source": [
    "generate_classification_report(y_test, y_test_pred_3)"
   ]
  },
  {
   "cell_type": "markdown",
   "metadata": {},
   "source": [
    "> For class 0 (negative class):\n",
    "\n",
    "- Precision: A value of 95.1% means that when the model predicts the negative class, it is correct 95.1% of the time.\n",
    "- Recall: At 89.6%, this indicates that the model correctly identifies 89.6% of the actual negative instances.\n",
    "- F1-score: With a value of 92.3%, this metric provides a balanced measure of precision and recall, combining both into a single value.\n",
    "- Support: There are 566 instances of the negative class in the dataset.\n",
    "\n",
    "> For class 1 (positive class):\n",
    "\n",
    "-  Precision at 55.6% means that when the model predicts the positive class, it is accurate 55.6% of the time.\n",
    "- Recall at 55.97% indicates that the model correctly identifies 55.97% of the actual positive instances.\n",
    "- The F1-score at 74.3% provides a balanced measure of precision and recall for the positive class.\n",
    "- Support indicates there are 101 instances of the positive class in the dataset.\n",
    "- The Random Forest classifier achieves an overall accuracy of about 87.3%, showing the percentage of correctly predicted instances overall."
   ]
  },
  {
   "cell_type": "markdown",
   "metadata": {},
   "source": [
    "### Summary\n",
    "- Based on the analysis of the three models, it is evident that logistic regression performs poorly in predicting customer churn. \n",
    "- In contrast, both the Random Forest classifier and Decision Trees perform well with accuracies of 87.3% and 92.5%, respectively. \n",
    "- Therefore, it is crucial to enhance the performance of the Random Forest classifier and Decision Trees by tuning hyperparameters to achieve even better accuracy. \n",
    "- Hyperparameters are essential for improving the efficiency and performance of models."
   ]
  },
  {
   "cell_type": "markdown",
   "metadata": {},
   "source": [
    "### Hyperparameter Tuning\n",
    "- Hyperparameters are settings that are predetermined and not learned from the data during model training.\n",
    "- They govern aspects like model complexity, regularization, learning rate, and number of iterations.\n",
    "- As the Random Forest classifier is our best-performing model among the three, we will employ Gridsearch to enhance its performance."
   ]
  },
  {
   "cell_type": "markdown",
   "metadata": {},
   "source": [
    "### Random Forest"
   ]
  },
  {
   "cell_type": "code",
   "execution_count": 136,
   "metadata": {},
   "outputs": [],
   "source": [
    "# Create an instance of the Random Forest classifier\n",
    "rf = RandomForestClassifier( random_state=42)\n",
    "\n",
    "# Define the parameter grid for grid search\n",
    "rf_param_grid = {\n",
    "    'n_estimators': [100, 200],\n",
    "    'criterion': ['gini', 'entropy'],\n",
    "    'max_depth': [2,6, 10],\n",
    "    'min_samples_split': [5, 10],\n",
    "    'min_samples_leaf': [3, 6]\n",
    "}\n",
    "\n",
    "# Create the GridSearchCV object\n",
    "grid_search = GridSearchCV(estimator=rf, param_grid=rf_param_grid, cv=5, n_jobs=-1)\n",
    "\n",
    "# Fit the grid search to the resampled training data\n",
    "grid_search.fit(X_train_smote, y_train_smote)\n",
    "\n",
    "# Get the best hyperparameters found during the grid search\n",
    "best_params = grid_search.best_params_\n",
    "\n",
    "# Create a new Random Forest classifier with the best hyperparameters\n",
    "best_model = RandomForestClassifier(**best_params, random_state=42)\n",
    "\n",
    "# Fit the best model to the resampled training data\n",
    "best_model.fit(X_train_smote, y_train_smote)\n",
    "\n",
    "# Predict on the training data\n",
    "y_train_pred = best_model.predict(X_train_smote)\n",
    "\n",
    "# Predict on the test data\n",
    "y_test_pred = best_model.predict(X_test)\n",
    "\n",
    "# Compute the accuracy\n",
    "accuracy_train = accuracy_score(y_train_smote, y_train_pred)\n",
    "accuracy_test = accuracy_score(y_test, y_test_pred)"
   ]
  },
  {
   "cell_type": "code",
   "execution_count": 138,
   "metadata": {},
   "outputs": [
    {
     "data": {
      "text/plain": [
       "{'roc_auc_train': 0.9358581436077057,\n",
       " 'roc_auc_test': 0.8591033131581709,\n",
       " 'accuracy_train': 0.9358581436077058,\n",
       " 'accuracy_test': 0.9265367316341829,\n",
       " 'confusion_matrix_train': <sklearn.metrics._plot.confusion_matrix.ConfusionMatrixDisplay at 0x123cd638100>}"
      ]
     },
     "execution_count": 138,
     "metadata": {},
     "output_type": "execute_result"
    },
    {
     "data": {
      "image/png": "[encoded data removed]",
      "text/plain": [
       "<Figure size 432x288 with 2 Axes>"
      ]
     },
     "metadata": {},
     "output_type": "display_data"
    }
   ],
   "source": [
    "#using the function above the draw confusion matrix \n",
    "evaluate_model_metrics(best_model, X_train_smote, y_train_smote, X_test, y_test)"
   ]
  },
  {
   "cell_type": "markdown",
   "metadata": {},
   "source": [
    "- After optimizing the parameters for the Random Forest classifier using grid search, our model showed improved performance as described below:\n",
    "- The accuracy of the Random Forest model now stands at 92.7%, indicating that it correctly predicted the class labels for the test data with around 93.6% accuracy and achieved 94.4% accuracy on the training data, making it highly effective for predicting customer churn.\n",
    "- The confusion matrix with tuned parameters shows 77 true positives (TP), 541 true negatives (TN), 25 false positives (FP), and 24 false negatives (FN), demonstrating excellent predictive capability."
   ]
  },
  {
   "cell_type": "code",
   "execution_count": 139,
   "metadata": {},
   "outputs": [],
   "source": [
    "# Define the parameter grid for grid search\n",
    "dt_param_grid = {\n",
    "    'max_depth': [3, 5, 7],\n",
    "    'min_samples_split': [2, 5, 10],\n",
    "    'min_samples_leaf': [1, 2, 4]\n",
    "}\n",
    "\n",
    "# Create an instance of DecisionTreeClassifier\n",
    "dt_clf_final= DecisionTreeClassifier()\n",
    "\n",
    "# Create the GridSearchCV object\n",
    "grid_search = GridSearchCV(estimator=dt_clf_final, param_grid=dt_param_grid, cv=5)\n",
    "\n",
    "# Fit the grid search to the resampled training data\n",
    "grid_search.fit(X_train_smote, y_train_smote)\n",
    "\n",
    "# Get the best hyperparameters found during the grid search\n",
    "best_params = grid_search.best_params_\n",
    "\n",
    "# Create a new DecisionTreeClassifier with the best hyperparameters\n",
    "best_model_2 = DecisionTreeClassifier(**best_params)\n",
    "\n",
    "# Fit the best model to the resampled training data\n",
    "best_model_2.fit(X_train_smote, y_train_smote)\n",
    "\n",
    "# Predict on the training and test data\n",
    "y_train_pred = best_model_2.predict(X_train_smote)\n",
    "y_test_pred = best_model_2.predict(X_test)\n",
    "\n",
    "# Calculate accuracy on the training and test data\n",
    "train_accuracy = accuracy_score(y_train_smote, y_train_pred)\n",
    "test_accuracy = accuracy_score(y_test, y_test_pred)"
   ]
  },
  {
   "cell_type": "code",
   "execution_count": 140,
   "metadata": {
    "scrolled": true
   },
   "outputs": [
    {
     "data": {
      "text/plain": [
       "{'roc_auc_train': 0.9043345008756568,\n",
       " 'roc_auc_test': 0.8888062834552006,\n",
       " 'accuracy_train': 0.9043345008756567,\n",
       " 'accuracy_test': 0.9355322338830585,\n",
       " 'confusion_matrix_train': <sklearn.metrics._plot.confusion_matrix.ConfusionMatrixDisplay at 0x123cbe41700>}"
      ]
     },
     "execution_count": 140,
     "metadata": {},
     "output_type": "execute_result"
    },
    {
     "data": {
      "image/png": "[encoded data removed]",
      "text/plain": [
       "<Figure size 432x288 with 2 Axes>"
      ]
     },
     "metadata": {},
     "output_type": "display_data"
    }
   ],
   "source": [
    "evaluate_model_metrics(best_model_2, X_train_smote, y_train_smote, X_test, y_test)"
   ]
  },
  {
   "cell_type": "markdown",
   "metadata": {},
   "source": [
    "- The tuned Decision Tree model achieved a training accuracy of 90.4% and an improved test accuracy of 93.6%. This suggests that the model is performing well and has learned patterns in the data that enable accurate predictions. \n",
    "- The Logistic Regression model attained an AUC-ROC score of around 0.904 on the training data and 0.888 on the test data."
   ]
  },
  {
   "cell_type": "markdown",
   "metadata": {},
   "source": [
    "### Evaluation"
   ]
  },
  {
   "cell_type": "markdown",
   "metadata": {},
   "source": [
    "### Analysis accuracy level\n"
   ]
  },
  {
   "cell_type": "markdown",
   "metadata": {},
   "source": [
    "- We have developed three machine learning models to predict customer churn at Seriatel company. Upon testing, we found that logistic regression performs poorly, achieving a training accuracy of 89.6% and a testing accuracy of 86.0%. Despite applying 5-fold cross-validation to mitigate overfitting, the training accuracy dropped to 89.2% and the testing accuracy only slightly improved to 86.2%.\n",
    "\n",
    "- In contrast, the decision tree classifier and random forest models demonstrated better accuracy. The decision tree achieved training and testing accuracies of 88.6% and 92.5%, respectively, while the random forest model had a training accuracy of 87.1% and a testing accuracy of 87.2%.\n",
    "\n",
    "- Therefore, it is evident that the decision tree model had the best average prediction accuracy, followed by the random forest. To further improve our prediction accuracy, we applied hyperparameter tuning using GridSearch.\n",
    "\n",
    "- After hyperparameter tuning, the decision tree model's accuracy improved to 90.4% on the training data and 93.6% on the testing data. The random forest model's accuracy improved to 93.6% on the training data and 92.7% on the testing data.\n",
    "\n",
    "- This indicates that there was some overfitting in the random forest model, making the decision tree preferable. In terms of precision, recall, and F1 score, the tuned decision tree outperformed the random forest classifier."
   ]
  },
  {
   "cell_type": "markdown",
   "metadata": {},
   "source": [
    "### ROC curve to check the best model"
   ]
  },
  {
   "cell_type": "code",
   "execution_count": 141,
   "metadata": {},
   "outputs": [
    {
     "data": {
      "image/png": "[encoded data removed]",
      "text/plain": [
       "<Figure size 576x432 with 1 Axes>"
      ]
     },
     "metadata": {},
     "output_type": "display_data"
    }
   ],
   "source": [
    "#drawing ROC curve for the above three models \n",
    "\n",
    "# Compute ROC curves and AUC scores for each model\n",
    "models = [best_model_2, logreg_final, best_model]\n",
    "labels = ['Random Forest', 'Logistic Regression', 'Decision Tree']\n",
    "\n",
    "plt.figure(figsize=(8, 6))\n",
    "\n",
    "for model, label in zip(models, labels):\n",
    "    if hasattr(model, \"predict_proba\"):\n",
    "        y_probs = model.predict_proba(X_test)[:, 1]\n",
    "    else:\n",
    "        y_probs = model.predict(X_test)\n",
    "    fpr, tpr, _ = roc_curve(y_test, y_probs)\n",
    "    auc_score = roc_auc_score(y_test, y_probs)\n",
    "\n",
    "    plt.plot(fpr, tpr, label='{} (AUC = {:.2f})'.format(label, auc_score))\n",
    "\n",
    "plt.plot([0, 1], [0, 1], 'k--')\n",
    "plt.xlabel('False Positive Rate')\n",
    "plt.ylabel('True Positive Rate')\n",
    "plt.title('Receiver Operating Characteristic (ROC) Curves')\n",
    "plt.legend()\n",
    "plt.show()"
   ]
  },
  {
   "cell_type": "markdown",
   "metadata": {},
   "source": [
    "### Model Comparison Summary\n",
    "\n",
    "> Based on the AUC (Area Under the Curve) values from the ROC (Receiver Operating Characteristic) curve, the following inferences can be made about the models' performance:\n",
    "\n",
    "- **Decision Tree**:\n",
    "  - **AUC**: 0.91\n",
    "  - **Inference**: Exhibits the strongest discriminatory power, effectively distinguishing between positive and negative classes. Maintains a high true positive rate (TPR) with a low false positive rate (FPR), resulting in a larger ROC curve area.\n",
    "\n",
    "- **Random Forest**:\n",
    "  - **AUC**: 0.88\n",
    "  - **Inference**: Demonstrates good classification ability but slightly lower than the Decision Tree. May have marginally higher false positive and false negative rates.\n",
    "\n",
    "- **Logistic Regression**:\n",
    "  - **AUC**: 0.83\n",
    "  - **Inference**: Shows the weakest discriminatory performance among the three models, with potentially higher false positive and false negative rates.\n",
    "\n",
    "**Conclusion**:\n",
    "- The **Decision Tree Classifier** is identified as the best model for serial predictions due to its largest area under the ROC curve and highest accuracy in predicting customer churn.\n",
    "- The Random Forest also performs well but is slightly less effective than the Decision Tree.\n",
    "- The Logistic Regression model, while useful, has the lowest AUC, indicating comparatively weaker performance in distinguishing between classes."
   ]
  },
  {
   "cell_type": "markdown",
   "metadata": {},
   "source": [
    "### Conclusion\n",
    "\n",
    "> By leveraging the best model, which is the Random Forest, Syriatel can achieve significant benefits:\n",
    "\n",
    "- **Accurate Prediction of Customer Churn**: The model's high accuracy ensures effective identification of customers likely to churn, enabling proactive retention strategies and reducing customer attrition.\n",
    "  \n",
    "- **Cost Efficiency**: Targeted resource allocation for retention efforts, such as personalized offers and improved customer service, optimizes costs by focusing efforts where they are most needed.\n",
    "  \n",
    "- **Enhanced Customer Retention**: Early intervention based on accurate churn predictions helps maintain a loyal customer base, boosting satisfaction and loyalty.\n",
    "  \n",
    "- **Informed Business Decisions**: Insights from churn predictions guide strategic decisions, including product improvements, customer experience enhancements, and targeted marketing campaigns, ultimately reducing churn and improving retention.\n"
   ]
  },
  {
   "cell_type": "code",
   "execution_count": null,
   "metadata": {},
   "outputs": [],
   "source": []
  }
 ],
 "metadata": {
  "kernelspec": {
   "display_name": "Python 3",
   "language": "python",
   "name": "python3"
  },
  "language_info": {
   "codemirror_mode": {
    "name": "ipython",
    "version": 3
   },
   "file_extension": ".py",
   "mimetype": "text/x-python",
   "name": "python",
   "nbconvert_exporter": "python",
   "pygments_lexer": "ipython3",
   "version": "3.8.5"
  }
 },
 "nbformat": 4,
 "nbformat_minor": 4
}
